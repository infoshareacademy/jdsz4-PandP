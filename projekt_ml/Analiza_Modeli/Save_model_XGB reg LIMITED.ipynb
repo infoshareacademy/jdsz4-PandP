{
 "cells": [
  {
   "cell_type": "markdown",
   "metadata": {},
   "source": [
    "#### Importownie bibliotek"
   ]
  },
  {
   "cell_type": "code",
   "execution_count": 84,
   "metadata": {},
   "outputs": [],
   "source": [
    "import pandas as pd\n",
    "import numpy as np\n",
    "import pickle\n",
    "\n",
    "import xgboost as xgb\n",
    "\n",
    "from sklearn.metrics import r2_score, mean_squared_error, mean_absolute_error\n",
    "from sklearn.model_selection import GridSearchCV, train_test_split, cross_val_score\n",
    "import time\n",
    "import matplotlib.pyplot as plt\n",
    "\n",
    "from sklearn.model_selection import GridSearchCV, RandomizedSearchCV\n",
    "\n",
    "\n",
    "\n",
    "\n",
    "import ipywidgets as widgets\n",
    "from IPython.display import display, clear_output"
   ]
  },
  {
   "cell_type": "markdown",
   "metadata": {},
   "source": [
    "#### Wczytanie dev_df z pliku"
   ]
  },
  {
   "cell_type": "code",
   "execution_count": 85,
   "metadata": {},
   "outputs": [
    {
     "name": "stderr",
     "output_type": "stream",
     "text": [
      "/home/bartosz/miniconda3/envs/ml_course/lib/python3.7/site-packages/ipykernel_launcher.py:11: UserWarning: Boolean Series key will be reindexed to match DataFrame index.\n",
      "  # This is added back by InteractiveShellApp.init_path()\n"
     ]
    }
   ],
   "source": [
    "dev_df=pd.read_csv(\"../dfs/full_df.csv\")\n",
    "#dev_df=pd.read_csv(\"../dfs/dev_df.csv\")\n",
    "\n",
    "dev_df_ok = dev_df[dev_df['state'] == 0]\n",
    "\n",
    "#x_dev=dev_df.drop(['Unnamed: 0','pledged_in_usd','percentage_of_money_collected','backers', 'state'], axis=1)\n",
    "\n",
    "uplim_goal = 200000\n",
    "uplim_pledged = 1000000\n",
    "\n",
    "x_dev=dev_df.drop(['Unnamed: 0','pledged_in_usd','percentage_of_money_collected','backers', 'state'], axis=1)[dev_df['goal_in_usd'] <= uplim_goal][dev_df['pledged_in_usd'] <= uplim_pledged]\n",
    "\n",
    "#y_dev=dev_df['state'][dev_df['goal_in_usd'] <= uplim_goal]\n",
    "y_dev_reg = dev_df['pledged_in_usd'][dev_df['goal_in_usd'] <= uplim_goal][dev_df['pledged_in_usd'] <= uplim_pledged]\n",
    "y_dev = y_dev_reg\n"
   ]
  },
  {
   "cell_type": "markdown",
   "metadata": {},
   "source": [
    "#### Reprezentacja x i y "
   ]
  },
  {
   "cell_type": "code",
   "execution_count": 86,
   "metadata": {},
   "outputs": [
    {
     "data": {
      "text/html": [
       "<div>\n",
       "<style scoped>\n",
       "    .dataframe tbody tr th:only-of-type {\n",
       "        vertical-align: middle;\n",
       "    }\n",
       "\n",
       "    .dataframe tbody tr th {\n",
       "        vertical-align: top;\n",
       "    }\n",
       "\n",
       "    .dataframe thead th {\n",
       "        text-align: right;\n",
       "    }\n",
       "</style>\n",
       "<table border=\"1\" class=\"dataframe\">\n",
       "  <thead>\n",
       "    <tr style=\"text-align: right;\">\n",
       "      <th></th>\n",
       "      <th>main_cat_cat</th>\n",
       "      <th>country</th>\n",
       "      <th>duration</th>\n",
       "      <th>currency</th>\n",
       "      <th>goal_in_usd</th>\n",
       "    </tr>\n",
       "  </thead>\n",
       "  <tbody>\n",
       "    <tr>\n",
       "      <th>0</th>\n",
       "      <td>80</td>\n",
       "      <td>21</td>\n",
       "      <td>30</td>\n",
       "      <td>13</td>\n",
       "      <td>500.00</td>\n",
       "    </tr>\n",
       "    <tr>\n",
       "      <th>1</th>\n",
       "      <td>54</td>\n",
       "      <td>7</td>\n",
       "      <td>30</td>\n",
       "      <td>5</td>\n",
       "      <td>3315.48</td>\n",
       "    </tr>\n",
       "    <tr>\n",
       "      <th>2</th>\n",
       "      <td>0</td>\n",
       "      <td>21</td>\n",
       "      <td>31</td>\n",
       "      <td>13</td>\n",
       "      <td>18000.00</td>\n",
       "    </tr>\n",
       "    <tr>\n",
       "      <th>3</th>\n",
       "      <td>154</td>\n",
       "      <td>21</td>\n",
       "      <td>45</td>\n",
       "      <td>13</td>\n",
       "      <td>60000.00</td>\n",
       "    </tr>\n",
       "    <tr>\n",
       "      <th>4</th>\n",
       "      <td>159</td>\n",
       "      <td>21</td>\n",
       "      <td>45</td>\n",
       "      <td>13</td>\n",
       "      <td>75000.00</td>\n",
       "    </tr>\n",
       "  </tbody>\n",
       "</table>\n",
       "</div>"
      ],
      "text/plain": [
       "   main_cat_cat  country  duration  currency  goal_in_usd\n",
       "0            80       21        30        13       500.00\n",
       "1            54        7        30         5      3315.48\n",
       "2             0       21        31        13     18000.00\n",
       "3           154       21        45        13     60000.00\n",
       "4           159       21        45        13     75000.00"
      ]
     },
     "execution_count": 86,
     "metadata": {},
     "output_type": "execute_result"
    }
   ],
   "source": [
    "x_dev.head()"
   ]
  },
  {
   "cell_type": "code",
   "execution_count": 87,
   "metadata": {},
   "outputs": [
    {
     "data": {
      "text/plain": [
       "0      575.00\n",
       "1       33.15\n",
       "2    20891.00\n",
       "3        0.00\n",
       "4    11734.01\n",
       "Name: pledged_in_usd, dtype: float64"
      ]
     },
     "execution_count": 87,
     "metadata": {},
     "output_type": "execute_result"
    }
   ],
   "source": [
    "y_dev.head()"
   ]
  },
  {
   "cell_type": "code",
   "execution_count": 88,
   "metadata": {},
   "outputs": [
    {
     "name": "stdout",
     "output_type": "stream",
     "text": [
      "(361804, 5)\n",
      "(361804,)\n"
     ]
    }
   ],
   "source": [
    "print(x_dev.shape)\n",
    "print(y_dev.shape)"
   ]
  },
  {
   "cell_type": "markdown",
   "metadata": {},
   "source": [
    "#### Podział próbek na treningowe i testowe"
   ]
  },
  {
   "cell_type": "code",
   "execution_count": 89,
   "metadata": {},
   "outputs": [
    {
     "name": "stdout",
     "output_type": "stream",
     "text": [
      "(296679, 5)\n",
      "(65125, 5)\n",
      "(296679,)\n",
      "(65125,)\n"
     ]
    }
   ],
   "source": [
    "x_train, x_test, y_train, y_test = train_test_split(x_dev, y_dev, test_size=0.18, random_state = 222)\n",
    "print(x_train.shape)\n",
    "print(x_test.shape)\n",
    "print(y_train.shape)\n",
    "print(y_test.shape)"
   ]
  },
  {
   "cell_type": "code",
   "execution_count": 90,
   "metadata": {},
   "outputs": [
    {
     "data": {
      "text/plain": [
       "count    296679.000000\n",
       "mean      14823.316706\n",
       "std       25417.801698\n",
       "min           0.010000\n",
       "25%        2000.000000\n",
       "50%        5062.780000\n",
       "75%       15000.000000\n",
       "max      200000.000000\n",
       "Name: goal_in_usd, dtype: float64"
      ]
     },
     "execution_count": 90,
     "metadata": {},
     "output_type": "execute_result"
    }
   ],
   "source": [
    "x_train['goal_in_usd'].describe()"
   ]
  },
  {
   "cell_type": "code",
   "execution_count": 91,
   "metadata": {},
   "outputs": [
    {
     "data": {
      "text/plain": [
       "count    296679.000000\n",
       "mean       7250.782169\n",
       "std       31966.872059\n",
       "min           0.000000\n",
       "25%          35.000000\n",
       "50%         652.000000\n",
       "75%        4101.000000\n",
       "max      987384.200000\n",
       "Name: pledged_in_usd, dtype: float64"
      ]
     },
     "execution_count": 91,
     "metadata": {},
     "output_type": "execute_result"
    }
   ],
   "source": [
    "y_train.describe()"
   ]
  },
  {
   "cell_type": "markdown",
   "metadata": {},
   "source": [
    "#### Podanie parametrów do xgb.XGBRegressor"
   ]
  },
  {
   "cell_type": "code",
   "execution_count": 80,
   "metadata": {},
   "outputs": [],
   "source": [
    "# params= {'objective': 'reg:squarederror'}"
   ]
  },
  {
   "cell_type": "markdown",
   "metadata": {},
   "source": [
    "#### Wyliczenie modelu xgb.XGBRegressor"
   ]
  },
  {
   "cell_type": "code",
   "execution_count": 65,
   "metadata": {},
   "outputs": [],
   "source": [
    "# %%time\n",
    "# def test(params):\n",
    "#     model = xgb.XGBRegressor(**params)\n",
    "#     model.fit(x_train,y_train)\n",
    "#     y_pred = model.predict(x_test)\n",
    "    \n",
    "#     mse = mean_squared_error(y_test, y_pred)\n",
    "#     mae = mean_absolute_error(y_test, y_pred)\n",
    "#     r2score = r2_score(y_test, y_pred)\n",
    "#     score = model.score(x_test,y_test)\n",
    "    \n",
    "#     return mse, mae, r2score, score, model"
   ]
  },
  {
   "cell_type": "markdown",
   "metadata": {},
   "source": [
    "#### Wyniki"
   ]
  },
  {
   "cell_type": "code",
   "execution_count": 66,
   "metadata": {},
   "outputs": [],
   "source": [
    "Saved = []"
   ]
  },
  {
   "cell_type": "code",
   "execution_count": 92,
   "metadata": {
    "scrolled": true
   },
   "outputs": [
    {
     "name": "stderr",
     "output_type": "stream",
     "text": [
      "/home/bartosz/miniconda3/envs/ml_course/lib/python3.7/site-packages/xgboost/core.py:587: FutureWarning: Series.base is deprecated and will be removed in a future version\n",
      "  if getattr(data, 'base', None) is not None and \\\n"
     ]
    }
   ],
   "source": [
    "dm_train = xgb.DMatrix(x_train,y_train)\n",
    "dm_test = xgb.DMatrix(x_test,y_test)\n",
    "\n",
    "params3 = {\"objective\":\"reg:squarederror\", 'learning_rate': 0.2, \"max_depth\":5, 'min_child_weight':1, \"booster\":\"gbtree\", 'gamma': 0,'reg_alpha' : 0, \n",
    "           'importance_type':'gain','reg_lambda' : 1,'num_parallel_tree': 1, \"n_jobs\" : 4}\n",
    "boosts3 = {\"n_rounds\":100}\n",
    "\n",
    "\n",
    "\n",
    "def run_model3(button):\n",
    "    #global time_model3\n",
    "    #time_model3 = %timeit -n1 -r1 -o xgb.train(params3, dm_train, num_boost_round=boosts3['n_rounds'] )\n",
    "    #global model3\n",
    "    t0=time.time()\n",
    "\n",
    "    #model3 = xgb.train(params3, dm_train, num_boost_round=boosts3['n_rounds'])\n",
    "    global model3\n",
    "    model3 = xgb.XGBRegressor(**params3,n_estimators=boosts3['n_rounds'] )\n",
    "    #model3 = xgb.train(params3, dm_train, num_boost_round=boosts3['n_rounds'])\n",
    "    model3.fit(x_train,y_train)\n",
    "    tend = time.time()\n",
    "\n",
    "\n",
    "    preds3 = model3.predict(x_test)\n",
    "    predsTrain3 = model3.predict(x_train)\n",
    "    global R2_score3\n",
    "    R2_score3 = r2_score(y_test, preds3)\n",
    "    #global mae3\n",
    "    mae3 = mean_absolute_error(y_test,preds3)\n",
    "    #global mse3\n",
    "    mse3 = mean_squared_error(y_test, preds3)\n",
    "\n",
    "    global score3train\n",
    "    score3train = r2_score(y_train, predsTrain3)\n",
    "    global train_time\n",
    "    train_time = tend - t0\n",
    "\n",
    "\n",
    "    #print(f'\\nmodel3 train time = {time_model3.average} s')\n",
    "    print(f'model3 score R2: {R2_score3}')\n",
    "    print(f'model3 mean average error: {mae3}')\n",
    "    print(f'model3 mean squared error: {mse3}')\n",
    "    print(f'model TRAIN R2 score: {score3train}')\n",
    "    print(f'Training time: {train_time}')\n",
    "    \n",
    "    #print('\\n',model3cv)\n",
    "    \n",
    "def cv_model3(button):\n",
    "    cvt0=time.time()\n",
    "\n",
    "    model3cv = xgb.cv(params3, dm_train, num_boost_round=boosts3['n_rounds'], nfold=4, metrics=['mae','rmse'] )\n",
    "    cvtend = time.time()\n",
    "    \n",
    "    rmse_val_train = model3cv['train-rmse-mean'].to_numpy()\n",
    "    rmse_val_test = model3cv['test-rmse-mean'].to_numpy()\n",
    "    \n",
    "    mae_val_train = model3cv['train-mae-mean'].to_numpy()\n",
    "    mae_val_test = model3cv['test-mae-mean'].to_numpy()\n",
    "    \n",
    "    \n",
    "    plt.figure(figsize=(25,10))\n",
    "    plt.subplot(1,2,2)\n",
    "    plt.plot(mae_val_train)\n",
    "    plt.plot(mae_val_test)\n",
    "    plt.legend(['TRAIN MAE','TEST MAE'])\n",
    "    #plt.show()\n",
    "    \n",
    "    plt.subplot(1,2,1)\n",
    "    plt.plot(rmse_val_train)\n",
    "    plt.plot(rmse_val_test)\n",
    "    plt.legend(['TRAIN RMSE','TEST RMSE'])\n",
    "    plt.show()\n",
    "    \n",
    "\n",
    "def cv_score(button):\n",
    "    cvt0=time.time()\n",
    "    model3 = xgb.XGBRegressor(**params3,n_estimators=boosts3['n_rounds'])\n",
    "\n",
    "    score_val = np.mean(cross_val_score(model3, x_train, y_train, cv=4))\n",
    "    print('CV score : ', score_val)\n",
    "    "
   ]
  },
  {
   "cell_type": "code",
   "execution_count": 93,
   "metadata": {
    "scrolled": false
   },
   "outputs": [
    {
     "data": {
      "text/plain": [
       "'SELECT MODEL PARAMETERS'"
      ]
     },
     "metadata": {},
     "output_type": "display_data"
    },
    {
     "data": {
      "application/vnd.jupyter.widget-view+json": {
       "model_id": "404c808512814161854b40f8108252ac",
       "version_major": 2,
       "version_minor": 0
      },
      "text/plain": [
       "HBox(children=(Label(value='Choose booster:'), Dropdown(options=('gbtree', 'dart', 'linear'), value='gbtree'))…"
      ]
     },
     "metadata": {},
     "output_type": "display_data"
    },
    {
     "data": {
      "application/vnd.jupyter.widget-view+json": {
       "model_id": "12e4877d22af4518abfa4ae8b0cec8d8",
       "version_major": 2,
       "version_minor": 0
      },
      "text/plain": [
       "HBox(children=(Label(value='Number of trees in forest:'), IntSlider(value=1, min=1)))"
      ]
     },
     "metadata": {},
     "output_type": "display_data"
    },
    {
     "data": {
      "application/vnd.jupyter.widget-view+json": {
       "model_id": "134d5edfc498434c9eeb4ba602c7ec64",
       "version_major": 2,
       "version_minor": 0
      },
      "text/plain": [
       "HBox(children=(Label(value='Number of boost rounds:'), IntSlider(value=620, max=50000, min=10, step=10)))"
      ]
     },
     "metadata": {},
     "output_type": "display_data"
    },
    {
     "data": {
      "application/vnd.jupyter.widget-view+json": {
       "model_id": "bb531a384b3e4182bbb1ed89bd240d7a",
       "version_major": 2,
       "version_minor": 0
      },
      "text/plain": [
       "HBox(children=(Label(value='Learning rate (eta):'), FloatSlider(value=0.01, max=1.0, min=0.01, step=0.01)))"
      ]
     },
     "metadata": {},
     "output_type": "display_data"
    },
    {
     "data": {
      "application/vnd.jupyter.widget-view+json": {
       "model_id": "c33b1d779df54bdf85458db396465dc4",
       "version_major": 2,
       "version_minor": 0
      },
      "text/plain": [
       "HBox(children=(Label(value='Depth of single tree :'), IntSlider(value=7, max=20, min=1)))"
      ]
     },
     "metadata": {},
     "output_type": "display_data"
    },
    {
     "data": {
      "application/vnd.jupyter.widget-view+json": {
       "model_id": "6744cce5768943c1a037b595fce0fd1a",
       "version_major": 2,
       "version_minor": 0
      },
      "text/plain": [
       "HBox(children=(Label(value='min child weight :'), IntSlider(value=3, max=50, min=1)))"
      ]
     },
     "metadata": {},
     "output_type": "display_data"
    },
    {
     "data": {
      "application/vnd.jupyter.widget-view+json": {
       "model_id": "212ca5542a4540d5a86c48aa3b7155d0",
       "version_major": 2,
       "version_minor": 0
      },
      "text/plain": [
       "HBox(children=(Label(value='Gamma:'), FloatSlider(value=2.4000000000000004, max=20.0, step=0.01)))"
      ]
     },
     "metadata": {},
     "output_type": "display_data"
    },
    {
     "data": {
      "application/vnd.jupyter.widget-view+json": {
       "model_id": "6fc2fbefc32246f0932a53781ab145a8",
       "version_major": 2,
       "version_minor": 0
      },
      "text/plain": [
       "HBox(children=(Label(value='L2 Regularization (Lambda):'), FloatSlider(value=1.0, max=50.0, step=0.01)))"
      ]
     },
     "metadata": {},
     "output_type": "display_data"
    },
    {
     "data": {
      "application/vnd.jupyter.widget-view+json": {
       "model_id": "2b2e734456814f4789493b99cafcab0f",
       "version_major": 2,
       "version_minor": 0
      },
      "text/plain": [
       "HBox(children=(Label(value='L1 Regularization (Alpha):'), FloatSlider(value=1.2000000000000002, max=50.0, step…"
      ]
     },
     "metadata": {},
     "output_type": "display_data"
    },
    {
     "data": {
      "application/vnd.jupyter.widget-view+json": {
       "model_id": "f7e5e0f0388a420285ee42ce153b46b6",
       "version_major": 2,
       "version_minor": 0
      },
      "text/plain": [
       "HBox(children=(Label(value='importance_type:'), Dropdown(options=('gain', 'weight', 'cover', 'total_gain', 'to…"
      ]
     },
     "metadata": {},
     "output_type": "display_data"
    },
    {
     "data": {
      "application/vnd.jupyter.widget-view+json": {
       "model_id": "0973be7979bd4d619182d7ef544be908",
       "version_major": 2,
       "version_minor": 0
      },
      "text/plain": [
       "HBox(children=(Button(description='Update params', style=ButtonStyle()), Button(description='Run Model 3', sty…"
      ]
     },
     "metadata": {},
     "output_type": "display_data"
    },
    {
     "data": {
      "application/vnd.jupyter.widget-view+json": {
       "model_id": "a554c6a126c24e08a7ac46828f9428ae",
       "version_major": 2,
       "version_minor": 0
      },
      "text/plain": [
       "HBox(children=(IntText(value=0), Button(description='Restore saved', style=ButtonStyle()), Button(description=…"
      ]
     },
     "metadata": {},
     "output_type": "display_data"
    },
    {
     "data": {
      "application/vnd.jupyter.widget-view+json": {
       "model_id": "1c7eef99365a4887a95595e97f79f31b",
       "version_major": 2,
       "version_minor": 0
      },
      "text/plain": [
       "HBox(children=(Button(description='Use best found random', style=ButtonStyle()), Button(description='cross_val…"
      ]
     },
     "metadata": {},
     "output_type": "display_data"
    },
    {
     "name": "stdout",
     "output_type": "stream",
     "text": [
      "{'ID': 0, 'SCORE': 0.09313572376564616, 'TRAIN SCORE': 0.10586814301433256, 'TrAIN TIME': 0.9230613708496094, 'num_parallel_tree': 1, 'n_rounds': 380, 'booster': 'gbtree', 'learning_rate': 0.04, 'max_depth': 2, 'min_child_weight': 3, 'gamma': 2.4000000000000004, 'reg_lambda': 1.8, 'reg_alpha': 0.8, 'importance_type': 'gain'}\n",
      "{'ID': 1, 'SCORE': 0.09088557753579718, 'TRAIN SCORE': 0.13217578025546806, 'TrAIN TIME': 2.80790376663208, 'num_parallel_tree': 1, 'n_rounds': 1180, 'booster': 'gbtree', 'learning_rate': 0.04, 'max_depth': 2, 'min_child_weight': 3, 'gamma': 2.4000000000000004, 'reg_lambda': 1.8, 'reg_alpha': 0.8, 'importance_type': 'gain'}\n",
      "{'ID': 2, 'SCORE': 0.12479747204927993, 'TRAIN SCORE': 0.19101359502780746, 'TrAIN TIME': 134.8472285270691, 'num_parallel_tree': 1, 'n_rounds': 620, 'booster': 'gbtree', 'learning_rate': 0.01, 'max_depth': 7, 'min_child_weight': 3, 'gamma': 2.4000000000000004, 'reg_lambda': 1.0, 'reg_alpha': 1.2000000000000002, 'importance_type': 'gain'}\n"
     ]
    }
   ],
   "source": [
    "run_model_button = widgets.Button(description=\"Run Model 3\")\n",
    "run_model_button.on_click(run_model3)\n",
    "\n",
    "\n",
    "cv_model_button = widgets.Button(description=\"Check CV (4-fold)\")\n",
    "cv_model_button.on_click(cv_model3)\n",
    "\n",
    "######## number of boost rounds\n",
    "boost_slider = widgets.IntSlider(100,10,50000,10)\n",
    "boost_num = widgets.HBox([widgets.Label('Number of boost rounds:'),boost_slider])\n",
    "\n",
    "######## number of parallel_trees\n",
    "\n",
    "forest_slider = widgets.IntSlider(1,1,100)\n",
    "forest_num = widgets.HBox([widgets.Label('Number of trees in forest:'),forest_slider])\n",
    "\n",
    "\n",
    "####### learning_rate slider\n",
    "learning_rate_slider = widgets.FloatSlider(value = 0.2, min = 0.01, max = 1.0, step = 0.01)\n",
    "learnig_rate = widgets.HBox([widgets.Label('Learning rate (eta):'),learning_rate_slider])\n",
    "\n",
    "\n",
    "######## tree depth\n",
    "depth_slider = widgets.IntSlider(5,1,20,1)\n",
    "depth = widgets.HBox([widgets.Label('Depth of single tree :'),depth_slider])\n",
    "\n",
    "######## min_child_weight\n",
    "child_slider = widgets.IntSlider(1,1,50,1)\n",
    "min_child = widgets.HBox([widgets.Label('min child weight :'),child_slider])\n",
    "\n",
    "######### booster type dropdown\n",
    "boosters_list = ['gbtree','dart','linear']\n",
    "booster_choice = widgets.Dropdown(options=boosters_list)\n",
    "booster_menu = widgets.HBox([widgets.Label('Choose booster:'),booster_choice])\n",
    "\n",
    "\n",
    "####### gamma slider\n",
    "gamma_slider = widgets.FloatSlider(value = 0, min = 0.00, max = 20.0, step = 0.01)\n",
    "gamma = widgets.HBox([widgets.Label('Gamma:'),gamma_slider])\n",
    "\n",
    "\n",
    "####### alpha slider\n",
    "alpha_slider = widgets.FloatSlider(value = 0, min = 0.00, max = 50.0, step = 0.01)\n",
    "alpha_reg = widgets.HBox([widgets.Label('L1 Regularization (Alpha):'),alpha_slider])\n",
    "\n",
    "####### lambda slider\n",
    "lambda_slider = widgets.FloatSlider(value = 1.0, min = 0.00, max = 50.0, step = 0.01)\n",
    "lambda_reg = widgets.HBox([widgets.Label('L2 Regularization (Lambda):'),lambda_slider])\n",
    "\n",
    "######### booster type dropdown\n",
    "importance_list = [\"gain\", \"weight\", \"cover\", \"total_gain\", \"total_cover\"]\n",
    "importance_choice = widgets.Dropdown(options=importance_list)\n",
    "importance_menu = widgets.HBox([widgets.Label('importance_type:'),importance_choice])\n",
    "\n",
    "\n",
    "\n",
    "def params3_updater(button):\n",
    "    boosts3['n_rounds'] =           boost_slider.value\n",
    "    boosts3['num_parallel_tree'] =  forest_slider.value\n",
    "    \n",
    "    params3[\"booster\"] =            booster_choice.value\n",
    "    params3[\"learning_rate\"] =      learning_rate_slider.value\n",
    "    params3[\"max_depth\"] =          depth_slider.value\n",
    "    params3['min_child_weight'] =   child_slider.value\n",
    "    params3[\"gamma\"] =              gamma_slider.value\n",
    "    params3[\"reg_lambda\"] =         lambda_slider.value\n",
    "    params3[\"reg_alpha\"] =          alpha_slider.value\n",
    "    params3['importance_type'] =    importance_choice.value\n",
    "    clear_output()\n",
    "    run_gui()\n",
    "    print('Boost rounds:  ',boosts3['n_rounds'],', Other parameters: ',params3)\n",
    "    \n",
    "update_button = widgets.Button(description=\"Update params\")\n",
    "update_button.on_click(params3_updater)\n",
    "\n",
    "\n",
    "def save_params(button):\n",
    "    Saved.append({'ID': len(Saved),\n",
    "                  'SCORE': R2_score3 ,\n",
    "                  'TRAIN SCORE':score3train,\n",
    "                  'TrAIN TIME' : train_time,\n",
    "                  'num_parallel_tree':params3[\"num_parallel_tree\"],\n",
    "                  'n_rounds': boosts3['n_rounds'],\n",
    "                  \"booster\": params3[\"booster\"],\n",
    "                  \"learning_rate\":params3[\"learning_rate\"],\n",
    "                  \"max_depth\":params3[\"max_depth\"],\n",
    "                  'min_child_weight':params3['min_child_weight'],\n",
    "                  'gamma':params3[\"gamma\"],\n",
    "                  'reg_lambda':params3[\"reg_lambda\"],\n",
    "                  'reg_alpha':params3[\"reg_alpha\"],\n",
    "                  'importance_type':params3['importance_type']\n",
    "                 })\n",
    "    print('saved!')\n",
    "\n",
    "save_button = widgets.Button(description=\"Save params and score\")\n",
    "save_button.on_click(save_params)\n",
    "\n",
    "def show_Saved(button):\n",
    "    clear_output()\n",
    "    run_gui()\n",
    "    for el in Saved:\n",
    "        print(el)\n",
    "\n",
    "show_button = widgets.Button(description=\"Show saved\")\n",
    "show_button.on_click(show_Saved)\n",
    "\n",
    "\n",
    "\n",
    "def restore_saved(button):\n",
    "    n = restore_number.value\n",
    "    boosts3['n_rounds'] = Saved[n]['n_rounds']\n",
    "    params3[\"booster\"] = Saved[n]['booster']\n",
    "    params3[\"num_parallel_tree\"] = Saved[n]['num_parallel_tree']\n",
    "    params3[\"learning_rate\"] = Saved[n]['learning_rate']\n",
    "    params3[\"max_depth\"] = Saved[n]['max_depth']\n",
    "    params3['min_child_weight'] = Saved[n]['min_child_weight']\n",
    "    params3[\"gamma\"] = Saved[n]['gamma']\n",
    "    params3[\"reg_lambda\"] = Saved[n]['reg_lambda']\n",
    "    params3[\"reg_alpha\"] = Saved[n]['reg_alpha']\n",
    "    params3['importance_type'] = Saved[n]['importance_type']\n",
    "    \n",
    "    boost_slider.value          = Saved[n]['n_rounds'] \n",
    "    booster_choice.value        = Saved[n]['booster']\n",
    "    forest_slider.value         = Saved[n]['num_parallel_tree']\n",
    "    learning_rate_slider.value  = Saved[n]['learning_rate']\n",
    "    depth_slider.value          = Saved[n]['max_depth']\n",
    "    child_slider.value          = Saved[n]['min_child_weight']\n",
    "    gamma_slider.value          = Saved[n]['gamma']\n",
    "    lambda_slider.value         = Saved[n]['reg_lambda']\n",
    "    alpha_slider.value          = Saved[n]['reg_alpha']\n",
    "    importance_choice.value     = Saved[n]['importance_type']\n",
    "    clear_output()\n",
    "    run_gui()\n",
    "    print('Boost rounds:  ',boosts3['n_rounds'],', Other parameters: ',params3)\n",
    "    \n",
    "restore_number = widgets.IntText(0)    \n",
    "\n",
    "restore_button = widgets.Button(description=\"Restore saved\")\n",
    "restore_button.on_click(restore_saved)\n",
    "\n",
    "\n",
    "cvscore_button = widgets.Button(description=\"cross_val_SCORE\")\n",
    "cvscore_button.on_click(cv_score)\n",
    "\n",
    "    \n",
    "def set_best_random(button):\n",
    "    boosts3['n_rounds'] =          xgbr_search.best_params_['n_estimators']\n",
    "    params3[\"booster\"] =           xgbr_search.best_params_['booster']\n",
    "    params3[\"num_parallel_tree\"] = xgbr_search.best_params_['num_parallel_tree']\n",
    "    params3[\"learning_rate\"] =     xgbr_search.best_params_['learning_rate']\n",
    "    params3[\"max_depth\"] =         xgbr_search.best_params_['max_depth']\n",
    "    params3['min_child_weight'] =  xgbr_search.best_params_['min_child_weight']\n",
    "    params3[\"gamma\"] =             xgbr_search.best_params_['gamma']\n",
    "    params3[\"reg_lambda\"] =        xgbr_search.best_params_['reg_lambda']\n",
    "    params3[\"reg_alpha\"] =         xgbr_search.best_params_['reg_alpha']\n",
    "    \n",
    "    boost_slider.value          = xgbr_search.best_params_['n_estimators'] \n",
    "    booster_choice.value        = xgbr_search.best_params_['booster']\n",
    "    forest_slider.value         = xgbr_search.best_params_['num_parallel_tree']\n",
    "    learning_rate_slider.value  = xgbr_search.best_params_['learning_rate']\n",
    "    depth_slider.value          = xgbr_search.best_params_['max_depth']\n",
    "    child_slider.value          = xgbr_search.best_params_['min_child_weight']\n",
    "    gamma_slider.value          = xgbr_search.best_params_['gamma']\n",
    "    lambda_slider.value         = xgbr_search.best_params_['reg_lambda']\n",
    "    alpha_slider.value          = xgbr_search.best_params_['reg_alpha']\n",
    "    clear_output()\n",
    "    run_gui()\n",
    "    print('Boost rounds:  ',boosts3['n_rounds'],', Other parameters: ',params3)\n",
    "\n",
    "best_random_button = widgets.Button(description=\"Use best found random\")\n",
    "best_random_button.on_click(set_best_random)\n",
    "\n",
    "######## GUI ##########\n",
    "\n",
    "def run_gui():\n",
    "    display('SELECT MODEL PARAMETERS')\n",
    "    display(booster_menu,forest_num,boost_num,learnig_rate,depth,min_child,gamma,lambda_reg,alpha_reg,importance_menu)\n",
    "\n",
    "    display(widgets.HBox([update_button,run_model_button,save_button,show_button]))\n",
    "    display(widgets.HBox([restore_number, restore_button, cv_model_button]))\n",
    "    display(widgets.HBox([best_random_button,cvscore_button]))\n",
    "\n",
    "\n",
    "\n",
    "    \n",
    "\n",
    "run_gui()"
   ]
  },
  {
   "cell_type": "code",
   "execution_count": 126,
   "metadata": {},
   "outputs": [],
   "source": [
    "#{'main_cat_cat': LabelEncoder(), 'country': LabelEncoder(), 'currency': LabelEncoder(), 'state': LabelEncoder()}\n"
   ]
  },
  {
   "cell_type": "markdown",
   "metadata": {},
   "source": [
    "## randomSearch CV"
   ]
  },
  {
   "cell_type": "code",
   "execution_count": 94,
   "metadata": {},
   "outputs": [
    {
     "name": "stderr",
     "output_type": "stream",
     "text": [
      "/home/bartosz/miniconda3/envs/ml_course/lib/python3.7/site-packages/xgboost/core.py:587: FutureWarning: Series.base is deprecated and will be removed in a future version\n",
      "  if getattr(data, 'base', None) is not None and \\\n"
     ]
    },
    {
     "name": "stdout",
     "output_type": "stream",
     "text": [
      "{'reg_lambda': 1.0, 'reg_alpha': 1.2000000000000002, 'objective': 'reg:squarederror', 'num_parallel_tree': 1, 'n_estimators': 620, 'min_child_weight': 3, 'max_depth': 7, 'learning_rate': 0.01, 'gamma': 2.4000000000000004, 'booster': 'gbtree'}\n",
      "test score:  0.12930202630975154 \n",
      "\n",
      "\n"
     ]
    },
    {
     "data": {
      "image/png": "[encoded data removed]",
      "text/plain": [
       "<Figure size 1800x720 with 1 Axes>"
      ]
     },
     "metadata": {
      "needs_background": "dark"
     },
     "output_type": "display_data"
    },
    {
     "name": "stdout",
     "output_type": "stream",
     "text": [
      "CPU times: user 2min 15s, sys: 653 ms, total: 2min 16s\n",
      "Wall time: 47min 35s\n"
     ]
    }
   ],
   "source": [
    "%%time\n",
    "Xgbreg = xgb.XGBRegressor()\n",
    "#Xgbreg = xgb.XGBRFRegressor()\n",
    "\n",
    "paramsRS = {\"objective\":[\"reg:squarederror\"], \n",
    "            \"n_estimators\": range(20,1000,40),\n",
    "             'learning_rate': [0.01,0.02,0.03,0.04,0.05,0.07,0.08,0.1,0.12,0.15,0.15,0.2,0.22,0.25,0.27,0.3,0.35,0.4],\n",
    "             \"max_depth\":range(2,8), \n",
    "             'min_child_weight':range(1,4,1), \n",
    "             \"booster\":[\"gbtree\"],\n",
    "             'gamma': np.arange(0.0,4,0.2),\n",
    "             'reg_alpha' : np.arange(0.0,2,0.1), \n",
    "             'reg_lambda' : np.arange(0.0,3,0.1),\n",
    "             'num_parallel_tree': [1]}\n",
    "            \n",
    "\n",
    "xgbr_search = RandomizedSearchCV(Xgbreg, param_distributions = paramsRS, cv= 4, n_iter= 20, n_jobs = 4)\n",
    "xgbr_search.fit(x_train,y_train)\n",
    "print(xgbr_search.best_params_)\n",
    "\n",
    "print('test score: ',xgbr_search.best_score_,'\\n\\n')\n",
    "\n",
    "plt.figure(figsize=(25,10))\n",
    "plt.bar(xgbr_search.cv_results_['rank_test_score'],xgbr_search.cv_results_['mean_test_score'], data=xgbr_search.cv_results_['mean_fit_time'])\n",
    "plt.grid(True)\n",
    "plt.show()"
   ]
  },
  {
   "cell_type": "markdown",
   "metadata": {},
   "source": [
    "#### Zapisanie modelu wyliczonego z dev_df"
   ]
  },
  {
   "cell_type": "code",
   "execution_count": 95,
   "metadata": {},
   "outputs": [],
   "source": [
    "pkl_filename = \"model_reg.pickle\"\n",
    "with open(pkl_filename, 'wb') as file:\n",
    "    pickle.dump(model3, file)"
   ]
  },
  {
   "cell_type": "markdown",
   "metadata": {},
   "source": [
    "#### W celu pobrania modelu z pliku wystarczy tyle:"
   ]
  },
  {
   "cell_type": "code",
   "execution_count": null,
   "metadata": {},
   "outputs": [],
   "source": [
    "with open(pkl_filename, 'rb') as file:\n",
    "    pickle_model = pickle.load(file)"
   ]
  },
  {
   "cell_type": "markdown",
   "metadata": {},
   "source": [
    "#### Sprawdzenie czy się poprawnie otworzył"
   ]
  },
  {
   "cell_type": "code",
   "execution_count": null,
   "metadata": {},
   "outputs": [],
   "source": [
    "pickle_model\n",
    "y_pred = pickle_model.predict(x_test)\n",
    "    \n",
    "mse = mean_squared_error(y_test, y_pred)\n",
    "mae = mean_absolute_error(y_test, y_pred)\n",
    "r2score = r2_score(y_test, y_pred)\n",
    "score = pickle_model.score(x_train,y_train) \n",
    "mse, mae, r2score, score"
   ]
  }
 ],
 "metadata": {
  "kernelspec": {
   "display_name": "Python 3",
   "language": "python",
   "name": "python3"
  },
  "language_info": {
   "codemirror_mode": {
    "name": "ipython",
    "version": 3
   },
   "file_extension": ".py",
   "mimetype": "text/x-python",
   "name": "python",
   "nbconvert_exporter": "python",
   "pygments_lexer": "ipython3",
   "version": "3.7.6"
  }
 },
 "nbformat": 4,
 "nbformat_minor": 2
}
