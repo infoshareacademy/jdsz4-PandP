{
 "cells": [
  {
   "cell_type": "code",
   "execution_count": 18,
   "metadata": {},
   "outputs": [],
   "source": [
    "#imports\n",
    "\n",
    "import ipywidgets as widgets\n",
    "from ipywidgets import HBox, Label"
   ]
  },
  {
   "cell_type": "code",
   "execution_count": 47,
   "metadata": {},
   "outputs": [],
   "source": [
    "#definitions\n",
    "\n",
    "main_category = widgets.Dropdown(\n",
    "    options=['Art',\n",
    "             'Fashion',\n",
    "             'Music',\n",
    "             'Crafts',\n",
    "             'Photography',\n",
    "             'Design',\n",
    "             'Film & Video',\n",
    "             'Food',\n",
    "             'Journalism',\n",
    "             'Publishing',\n",
    "             'Dance',\n",
    "             'Comics',\n",
    "             'Technology',\n",
    "             'Theater',\n",
    "             'Games'],\n",
    "    disabled=False,)\n",
    "\n",
    "sub_category = widgets.Dropdown()\n",
    "\n",
    "def narrow_subcat(*args):\n",
    "    sub_categories = {'Art': ['Art 1','Art 2'],\n",
    "                      'Comics': ['Comics 1','Comics 2'],\n",
    "                      'Crafts': ['Crafts 1','Crafts 2'],\n",
    "                      'Dance': ['Dance 1','Dance 2'],\n",
    "                      'Design': ['Design 1','Design 2'],\n",
    "                      'Fashion': ['Fashion 1','Fashion 2'],\n",
    "                      'Film & Video': ['Film Video 1', 'Film Video 2'],\n",
    "                      'Food': ['Food 1','Food 2'],\n",
    "                      'Games': ['Games 1','Games 2'],\n",
    "                      'Journalism': ['Journalism 1','Journalism 2'],\n",
    "                      'Music': ['Music 1','Music 2'],\n",
    "                      'Photography': ['Photo 1','Photo 2'],\n",
    "                      'Publishing': ['Publish 1', 'Publish 2'],\n",
    "                      'Technology': ['Tech 1','Tech 2'],\n",
    "                      'Theater': ['Theater 1', 'Theater 2']}\n",
    "                      \n",
    "    sub_category.options = list(sub_categories[main_category.value])\n",
    "\n",
    "main_category.observe(narrow_subcat)\n",
    "\n",
    "country = widgets.Dropdown(\n",
    "    options=['USA', 'France'],\n",
    "    disabled=False,\n",
    ")\n",
    "\n",
    "currency = widgets.Dropdown(\n",
    "    options=['HKD','SGD','SEK','JPY','NOK','AUD','GBP','CHF','MXN','CAD','DKK','EUR','NZD','USD'],\n",
    "    value='USD',\n",
    "    disabled=False,\n",
    ")\n",
    "\n",
    "launch_date = widgets.DatePicker(\n",
    "    disabled=False\n",
    ")\n",
    "\n",
    "duration = widgets.IntSlider(\n",
    "    min=1,\n",
    "    max=90,\n",
    "    step=1,\n",
    "    description='Days:',\n",
    "    disabled=False,\n",
    "    continuous_update=True,\n",
    "    orientation='horizontal',\n",
    "    readout=True,\n",
    "    readout_format='d'\n",
    ")\n",
    "\n"
   ]
  },
  {
   "cell_type": "code",
   "execution_count": 49,
   "metadata": {},
   "outputs": [
    {
     "name": "stdout",
     "output_type": "stream",
     "text": [
      "Choose the main category\n"
     ]
    },
    {
     "data": {
      "application/vnd.jupyter.widget-view+json": {
       "model_id": "1021653a828d4fdab71d92fd99757b61",
       "version_major": 2,
       "version_minor": 0
      },
      "text/plain": [
       "Dropdown(options=('Art', 'Fashion', 'Music', 'Crafts', 'Photography', 'Design', 'Film & Video', 'Food', 'Journ…"
      ]
     },
     "metadata": {},
     "output_type": "display_data"
    },
    {
     "name": "stdout",
     "output_type": "stream",
     "text": [
      "Choose sub-category\n"
     ]
    },
    {
     "data": {
      "application/vnd.jupyter.widget-view+json": {
       "model_id": "a4ed70909249410aa89f8e378df1cade",
       "version_major": 2,
       "version_minor": 0
      },
      "text/plain": [
       "Dropdown(options=(), value=None)"
      ]
     },
     "metadata": {},
     "output_type": "display_data"
    },
    {
     "name": "stdout",
     "output_type": "stream",
     "text": [
      "Choose country\n"
     ]
    },
    {
     "data": {
      "application/vnd.jupyter.widget-view+json": {
       "model_id": "8de9bf02e1344b90bdb077ff0fafb4fb",
       "version_major": 2,
       "version_minor": 0
      },
      "text/plain": [
       "Dropdown(options=('USA', 'France'), value='USA')"
      ]
     },
     "metadata": {},
     "output_type": "display_data"
    },
    {
     "name": "stdout",
     "output_type": "stream",
     "text": [
      "Choose currency\n"
     ]
    },
    {
     "data": {
      "application/vnd.jupyter.widget-view+json": {
       "model_id": "1154ec1961964fd69173e1ed4841ad4b",
       "version_major": 2,
       "version_minor": 0
      },
      "text/plain": [
       "Dropdown(index=13, options=('HKD', 'SGD', 'SEK', 'JPY', 'NOK', 'AUD', 'GBP', 'CHF', 'MXN', 'CAD', 'DKK', 'EUR'…"
      ]
     },
     "metadata": {},
     "output_type": "display_data"
    },
    {
     "name": "stdout",
     "output_type": "stream",
     "text": [
      "Choose time - the launch date and the duration\n"
     ]
    },
    {
     "data": {
      "application/vnd.jupyter.widget-view+json": {
       "model_id": "26ace8986e5f43ceb8eb6f1493393083",
       "version_major": 2,
       "version_minor": 0
      },
      "text/plain": [
       "DatePicker(value=None)"
      ]
     },
     "metadata": {},
     "output_type": "display_data"
    },
    {
     "data": {
      "application/vnd.jupyter.widget-view+json": {
       "model_id": "c6b04a28968a4e9ebe908742e7f4ef91",
       "version_major": 2,
       "version_minor": 0
      },
      "text/plain": [
       "IntSlider(value=1, description='Days:', max=90, min=1)"
      ]
     },
     "metadata": {},
     "output_type": "display_data"
    },
    {
     "data": {
      "application/vnd.jupyter.widget-view+json": {
       "model_id": "a54cea7613184446a3caeb3a9e7e62b8",
       "version_major": 2,
       "version_minor": 0
      },
      "text/plain": [
       "HBox(children=(VBox(children=(IntSlider(value=0, description='a'), IntSlider(value=0, description='b'), IntSli…"
      ]
     },
     "metadata": {},
     "output_type": "display_data"
    }
   ],
   "source": [
    "# displays\n",
    "\n",
    "\n",
    "\n",
    "print('Choose the main category')\n",
    "display(main_category)\n",
    "\n",
    "print('Choose sub-category')\n",
    "display(sub_category)\n",
    "\n",
    "print('Choose country')\n",
    "display(country)\n",
    "\n",
    "print('Choose currency')\n",
    "display(currency)\n",
    "\n",
    "print('Choose time - the launch date and the duration')\n",
    "display(launch_date)\n",
    "display(duration)\n",
    "\n",
    "a = widgets.IntSlider(description='a')\n",
    "b = widgets.IntSlider(description='b')\n",
    "c = widgets.IntSlider(description='c')\n",
    "def f(a, b, c):\n",
    "    print('{}*{}*{}={}'.format(a, b, c, a*b*c))\n",
    "\n",
    "out = widgets.interactive_output(f, {'a': a, 'b': b, 'c': c})\n",
    "\n",
    "widgets.HBox([widgets.VBox([a, b, c]), out])"
   ]
  },
  {
   "cell_type": "code",
   "execution_count": null,
   "metadata": {},
   "outputs": [],
   "source": []
  }
 ],
 "metadata": {
  "kernelspec": {
   "display_name": "Python 3",
   "language": "python",
   "name": "python3"
  },
  "language_info": {
   "codemirror_mode": {
    "name": "ipython",
    "version": 3
   },
   "file_extension": ".py",
   "mimetype": "text/x-python",
   "name": "python",
   "nbconvert_exporter": "python",
   "pygments_lexer": "ipython3",
   "version": "3.7.4"
  }
 },
 "nbformat": 4,
 "nbformat_minor": 2
}
