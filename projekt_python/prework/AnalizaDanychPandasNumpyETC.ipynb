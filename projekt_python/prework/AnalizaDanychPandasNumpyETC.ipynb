{
 "cells": [
  {
   "cell_type": "markdown",
   "metadata": {},
   "source": [
    "# 1 Importownie bibliotek"
   ]
  },
  {
   "cell_type": "code",
   "execution_count": 2,
   "metadata": {},
   "outputs": [],
   "source": [
    "import pandas as pd\n",
    "import numpy as np\n",
    "import matplotlib.pyplot as plt\n",
    "import math as math"
   ]
  },
  {
   "cell_type": "markdown",
   "metadata": {},
   "source": [
    "# 2 Importowanie pliku w PANDAS"
   ]
  },
  {
   "cell_type": "markdown",
   "metadata": {},
   "source": [
    "## Jest kilka sposobów, najprostszy jest gdy mamy *.CSV:\n",
    "\n",
    "df1=pd.read_csv('ks-projects-201801.csv')\n",
    "\n",
    "df2=pd.read_csv('./course-files/ks-projects-201801.csv')\n",
    "\n",
    "**Uwagi:**\n",
    "    1. plik ks-projects-201801.csv w **DF2** ma podaną ściężkę jak widać spoza lokalizacji ROOTa ./jupitera, w zwkiązku z tym jest \"./\"\n",
    "    2. można w jupiterze używać TABa po \"./\"\n",
    "    3. w przypadku **DF1** gdy mamy notebook w tej samej lokalizacji co plik to nie musimy używać \"./\"\n",
    "    \n",
    " **Pandas obsuguje inne pliki, takie jak np:**\n",
    "    1. excel\n",
    "    2. html\n",
    "    3. jason\n",
    "    4. schowek\n",
    " Wszystko jest pod tabulatorem po .read_\n",
    " \n",
    " "
   ]
  },
  {
   "cell_type": "markdown",
   "metadata": {},
   "source": [
    "## Import poszczególnych kolumn na przykładzie *.CSV\n",
    "\n",
    "df1=pd.read_csv('ks-projects-201801.csv',usecols=['usd pledged','usd_pledged_real'])"
   ]
  },
  {
   "cell_type": "code",
   "execution_count": 3,
   "metadata": {},
   "outputs": [
    {
     "name": "stdout",
     "output_type": "stream",
     "text": [
      "   usd pledged  usd_pledged_real\n",
      "0          0.0               0.0\n",
      "1        100.0            2421.0\n",
      "2        220.0             220.0\n",
      "3          1.0               1.0\n",
      "4       1283.0            1283.0\n",
      "\n",
      "\n",
      "        usd pledged  usd_pledged_real\n",
      "378656         25.0              25.0\n",
      "378657        155.0             155.0\n",
      "378658         20.0              20.0\n",
      "378659        200.0             200.0\n",
      "378660        524.0             524.0\n"
     ]
    }
   ],
   "source": [
    "df1=pd.read_csv('ks-projects-201801.csv',usecols=['usd pledged','usd_pledged_real'])\n",
    "#.head() wyświetla 5 krotek - jeśli będzie parametr (10) to będzie 10 krotek\n",
    "print(df1.head())\n",
    "print('\\n')\n",
    "#.tail() wyświetla 5 krotek - jeśli będzie parametr (10) to będzie 10 krotek\n",
    "print(df1.tail())"
   ]
  },
  {
   "cell_type": "code",
   "execution_count": 4,
   "metadata": {},
   "outputs": [
    {
     "data": {
      "text/html": [
       "<div>\n",
       "<style scoped>\n",
       "    .dataframe tbody tr th:only-of-type {\n",
       "        vertical-align: middle;\n",
       "    }\n",
       "\n",
       "    .dataframe tbody tr th {\n",
       "        vertical-align: top;\n",
       "    }\n",
       "\n",
       "    .dataframe thead th {\n",
       "        text-align: right;\n",
       "    }\n",
       "</style>\n",
       "<table border=\"1\" class=\"dataframe\">\n",
       "  <thead>\n",
       "    <tr style=\"text-align: right;\">\n",
       "      <th></th>\n",
       "      <th>usd pledged</th>\n",
       "      <th>usd_pledged_real</th>\n",
       "    </tr>\n",
       "  </thead>\n",
       "  <tbody>\n",
       "    <tr>\n",
       "      <th>0</th>\n",
       "      <td>0.0</td>\n",
       "      <td>0.0</td>\n",
       "    </tr>\n",
       "    <tr>\n",
       "      <th>1</th>\n",
       "      <td>100.0</td>\n",
       "      <td>2421.0</td>\n",
       "    </tr>\n",
       "    <tr>\n",
       "      <th>2</th>\n",
       "      <td>220.0</td>\n",
       "      <td>220.0</td>\n",
       "    </tr>\n",
       "    <tr>\n",
       "      <th>3</th>\n",
       "      <td>1.0</td>\n",
       "      <td>1.0</td>\n",
       "    </tr>\n",
       "    <tr>\n",
       "      <th>4</th>\n",
       "      <td>1283.0</td>\n",
       "      <td>1283.0</td>\n",
       "    </tr>\n",
       "  </tbody>\n",
       "</table>\n",
       "</div>"
      ],
      "text/plain": [
       "   usd pledged  usd_pledged_real\n",
       "0          0.0               0.0\n",
       "1        100.0            2421.0\n",
       "2        220.0             220.0\n",
       "3          1.0               1.0\n",
       "4       1283.0            1283.0"
      ]
     },
     "execution_count": 4,
     "metadata": {},
     "output_type": "execute_result"
    }
   ],
   "source": [
    "df1=pd.read_csv('ks-projects-201801.csv',usecols=['usd pledged','usd_pledged_real'])\n",
    "df1.head()"
   ]
  },
  {
   "cell_type": "markdown",
   "metadata": {},
   "source": [
    "## 2.1 Inne sposoby importu plików:\n",
    "import csv\n",
    "\n",
    "**konstrukcja *with* pozwala na otworzenie pliku i korzystanie z niego wewnątrz niej, po jej opuszczeniu automatycznie zamknie strumień odczytu**\n",
    "\n",
    "with open('plik.csv', 'r') as csvfile:\n",
    "\n",
    "**deklarujemy nasz *czytacz* parametr *delimiter* jest opcjonalny i wskazuje jaki został w pliku użyty separator**\n",
    "\n",
    "csvreader = csv.reader(csvfile, delimiter=',')\n",
    "\n",
    "**pojawia się nowy paramet encoding ustawiony na utf-8**\n",
    "\n",
    "with open('plik.csv', 'r', encoding='utf-8') as csvfile:\n",
    "    csvreader = csv.reader(csvfile, delimiter=',')"
   ]
  },
  {
   "cell_type": "markdown",
   "metadata": {},
   "source": [
    "## 2.2 Indeksowanie Serii/DataFrame"
   ]
  },
  {
   "cell_type": "markdown",
   "metadata": {},
   "source": [
    "1. Gdy zaimportujemy domyślnie nasz plik, indeksem staje się domyślnie utworzona kolumna. Widać to poniżej:"
   ]
  },
  {
   "cell_type": "code",
   "execution_count": 8,
   "metadata": {},
   "outputs": [
    {
     "data": {
      "text/html": [
       "<div>\n",
       "<style scoped>\n",
       "    .dataframe tbody tr th:only-of-type {\n",
       "        vertical-align: middle;\n",
       "    }\n",
       "\n",
       "    .dataframe tbody tr th {\n",
       "        vertical-align: top;\n",
       "    }\n",
       "\n",
       "    .dataframe thead th {\n",
       "        text-align: right;\n",
       "    }\n",
       "</style>\n",
       "<table border=\"1\" class=\"dataframe\">\n",
       "  <thead>\n",
       "    <tr style=\"text-align: right;\">\n",
       "      <th></th>\n",
       "      <th>ID</th>\n",
       "      <th>name</th>\n",
       "      <th>category</th>\n",
       "      <th>main_category</th>\n",
       "      <th>currency</th>\n",
       "      <th>deadline</th>\n",
       "      <th>goal</th>\n",
       "      <th>launched</th>\n",
       "      <th>pledged</th>\n",
       "      <th>state</th>\n",
       "      <th>backers</th>\n",
       "      <th>country</th>\n",
       "      <th>usd pledged</th>\n",
       "      <th>usd_pledged_real</th>\n",
       "      <th>usd_goal_real</th>\n",
       "    </tr>\n",
       "  </thead>\n",
       "  <tbody>\n",
       "    <tr>\n",
       "      <th>0</th>\n",
       "      <td>1000002330</td>\n",
       "      <td>The Songs of Adelaide &amp; Abullah</td>\n",
       "      <td>Poetry</td>\n",
       "      <td>Publishing</td>\n",
       "      <td>GBP</td>\n",
       "      <td>2015-10-09</td>\n",
       "      <td>1000.0</td>\n",
       "      <td>2015-08-11 12:12:28</td>\n",
       "      <td>0.0</td>\n",
       "      <td>failed</td>\n",
       "      <td>0</td>\n",
       "      <td>GB</td>\n",
       "      <td>0.0</td>\n",
       "      <td>0.0</td>\n",
       "      <td>1533.95</td>\n",
       "    </tr>\n",
       "    <tr>\n",
       "      <th>1</th>\n",
       "      <td>1000003930</td>\n",
       "      <td>Greeting From Earth: ZGAC Arts Capsule For ET</td>\n",
       "      <td>Narrative Film</td>\n",
       "      <td>Film &amp; Video</td>\n",
       "      <td>USD</td>\n",
       "      <td>2017-11-01</td>\n",
       "      <td>30000.0</td>\n",
       "      <td>2017-09-02 04:43:57</td>\n",
       "      <td>2421.0</td>\n",
       "      <td>failed</td>\n",
       "      <td>15</td>\n",
       "      <td>US</td>\n",
       "      <td>100.0</td>\n",
       "      <td>2421.0</td>\n",
       "      <td>30000.00</td>\n",
       "    </tr>\n",
       "    <tr>\n",
       "      <th>2</th>\n",
       "      <td>1000004038</td>\n",
       "      <td>Where is Hank?</td>\n",
       "      <td>Narrative Film</td>\n",
       "      <td>Film &amp; Video</td>\n",
       "      <td>USD</td>\n",
       "      <td>2013-02-26</td>\n",
       "      <td>45000.0</td>\n",
       "      <td>2013-01-12 00:20:50</td>\n",
       "      <td>220.0</td>\n",
       "      <td>failed</td>\n",
       "      <td>3</td>\n",
       "      <td>US</td>\n",
       "      <td>220.0</td>\n",
       "      <td>220.0</td>\n",
       "      <td>45000.00</td>\n",
       "    </tr>\n",
       "    <tr>\n",
       "      <th>3</th>\n",
       "      <td>1000007540</td>\n",
       "      <td>ToshiCapital Rekordz Needs Help to Complete Album</td>\n",
       "      <td>Music</td>\n",
       "      <td>Music</td>\n",
       "      <td>USD</td>\n",
       "      <td>2012-04-16</td>\n",
       "      <td>5000.0</td>\n",
       "      <td>2012-03-17 03:24:11</td>\n",
       "      <td>1.0</td>\n",
       "      <td>failed</td>\n",
       "      <td>1</td>\n",
       "      <td>US</td>\n",
       "      <td>1.0</td>\n",
       "      <td>1.0</td>\n",
       "      <td>5000.00</td>\n",
       "    </tr>\n",
       "    <tr>\n",
       "      <th>4</th>\n",
       "      <td>1000011046</td>\n",
       "      <td>Community Film Project: The Art of Neighborhoo...</td>\n",
       "      <td>Film &amp; Video</td>\n",
       "      <td>Film &amp; Video</td>\n",
       "      <td>USD</td>\n",
       "      <td>2015-08-29</td>\n",
       "      <td>19500.0</td>\n",
       "      <td>2015-07-04 08:35:03</td>\n",
       "      <td>1283.0</td>\n",
       "      <td>canceled</td>\n",
       "      <td>14</td>\n",
       "      <td>US</td>\n",
       "      <td>1283.0</td>\n",
       "      <td>1283.0</td>\n",
       "      <td>19500.00</td>\n",
       "    </tr>\n",
       "  </tbody>\n",
       "</table>\n",
       "</div>"
      ],
      "text/plain": [
       "           ID                                               name  \\\n",
       "0  1000002330                    The Songs of Adelaide & Abullah   \n",
       "1  1000003930      Greeting From Earth: ZGAC Arts Capsule For ET   \n",
       "2  1000004038                                     Where is Hank?   \n",
       "3  1000007540  ToshiCapital Rekordz Needs Help to Complete Album   \n",
       "4  1000011046  Community Film Project: The Art of Neighborhoo...   \n",
       "\n",
       "         category main_category currency    deadline     goal  \\\n",
       "0          Poetry    Publishing      GBP  2015-10-09   1000.0   \n",
       "1  Narrative Film  Film & Video      USD  2017-11-01  30000.0   \n",
       "2  Narrative Film  Film & Video      USD  2013-02-26  45000.0   \n",
       "3           Music         Music      USD  2012-04-16   5000.0   \n",
       "4    Film & Video  Film & Video      USD  2015-08-29  19500.0   \n",
       "\n",
       "              launched  pledged     state  backers country  usd pledged  \\\n",
       "0  2015-08-11 12:12:28      0.0    failed        0      GB          0.0   \n",
       "1  2017-09-02 04:43:57   2421.0    failed       15      US        100.0   \n",
       "2  2013-01-12 00:20:50    220.0    failed        3      US        220.0   \n",
       "3  2012-03-17 03:24:11      1.0    failed        1      US          1.0   \n",
       "4  2015-07-04 08:35:03   1283.0  canceled       14      US       1283.0   \n",
       "\n",
       "   usd_pledged_real  usd_goal_real  \n",
       "0               0.0        1533.95  \n",
       "1            2421.0       30000.00  \n",
       "2             220.0       45000.00  \n",
       "3               1.0        5000.00  \n",
       "4            1283.0       19500.00  "
      ]
     },
     "execution_count": 8,
     "metadata": {},
     "output_type": "execute_result"
    }
   ],
   "source": [
    "df1=pd.read_csv('ks-projects-201801.csv')\n",
    "df1.head()"
   ]
  },
  {
   "cell_type": "markdown",
   "metadata": {},
   "source": [
    "2. Można to zmienić gdy przypiszemy indeks parametrem **index_col**, podczas importu pliku. Poniżej przykład z df2"
   ]
  },
  {
   "cell_type": "code",
   "execution_count": 10,
   "metadata": {},
   "outputs": [
    {
     "data": {
      "text/html": [
       "<div>\n",
       "<style scoped>\n",
       "    .dataframe tbody tr th:only-of-type {\n",
       "        vertical-align: middle;\n",
       "    }\n",
       "\n",
       "    .dataframe tbody tr th {\n",
       "        vertical-align: top;\n",
       "    }\n",
       "\n",
       "    .dataframe thead th {\n",
       "        text-align: right;\n",
       "    }\n",
       "</style>\n",
       "<table border=\"1\" class=\"dataframe\">\n",
       "  <thead>\n",
       "    <tr style=\"text-align: right;\">\n",
       "      <th></th>\n",
       "      <th>name</th>\n",
       "      <th>category</th>\n",
       "      <th>main_category</th>\n",
       "      <th>currency</th>\n",
       "      <th>deadline</th>\n",
       "      <th>goal</th>\n",
       "      <th>launched</th>\n",
       "      <th>pledged</th>\n",
       "      <th>state</th>\n",
       "      <th>backers</th>\n",
       "      <th>country</th>\n",
       "      <th>usd pledged</th>\n",
       "      <th>usd_pledged_real</th>\n",
       "      <th>usd_goal_real</th>\n",
       "    </tr>\n",
       "    <tr>\n",
       "      <th>ID</th>\n",
       "      <th></th>\n",
       "      <th></th>\n",
       "      <th></th>\n",
       "      <th></th>\n",
       "      <th></th>\n",
       "      <th></th>\n",
       "      <th></th>\n",
       "      <th></th>\n",
       "      <th></th>\n",
       "      <th></th>\n",
       "      <th></th>\n",
       "      <th></th>\n",
       "      <th></th>\n",
       "      <th></th>\n",
       "    </tr>\n",
       "  </thead>\n",
       "  <tbody>\n",
       "    <tr>\n",
       "      <th>1000002330</th>\n",
       "      <td>The Songs of Adelaide &amp; Abullah</td>\n",
       "      <td>Poetry</td>\n",
       "      <td>Publishing</td>\n",
       "      <td>GBP</td>\n",
       "      <td>2015-10-09</td>\n",
       "      <td>1000.0</td>\n",
       "      <td>2015-08-11 12:12:28</td>\n",
       "      <td>0.0</td>\n",
       "      <td>failed</td>\n",
       "      <td>0</td>\n",
       "      <td>GB</td>\n",
       "      <td>0.0</td>\n",
       "      <td>0.0</td>\n",
       "      <td>1533.95</td>\n",
       "    </tr>\n",
       "    <tr>\n",
       "      <th>1000003930</th>\n",
       "      <td>Greeting From Earth: ZGAC Arts Capsule For ET</td>\n",
       "      <td>Narrative Film</td>\n",
       "      <td>Film &amp; Video</td>\n",
       "      <td>USD</td>\n",
       "      <td>2017-11-01</td>\n",
       "      <td>30000.0</td>\n",
       "      <td>2017-09-02 04:43:57</td>\n",
       "      <td>2421.0</td>\n",
       "      <td>failed</td>\n",
       "      <td>15</td>\n",
       "      <td>US</td>\n",
       "      <td>100.0</td>\n",
       "      <td>2421.0</td>\n",
       "      <td>30000.00</td>\n",
       "    </tr>\n",
       "    <tr>\n",
       "      <th>1000004038</th>\n",
       "      <td>Where is Hank?</td>\n",
       "      <td>Narrative Film</td>\n",
       "      <td>Film &amp; Video</td>\n",
       "      <td>USD</td>\n",
       "      <td>2013-02-26</td>\n",
       "      <td>45000.0</td>\n",
       "      <td>2013-01-12 00:20:50</td>\n",
       "      <td>220.0</td>\n",
       "      <td>failed</td>\n",
       "      <td>3</td>\n",
       "      <td>US</td>\n",
       "      <td>220.0</td>\n",
       "      <td>220.0</td>\n",
       "      <td>45000.00</td>\n",
       "    </tr>\n",
       "    <tr>\n",
       "      <th>1000007540</th>\n",
       "      <td>ToshiCapital Rekordz Needs Help to Complete Album</td>\n",
       "      <td>Music</td>\n",
       "      <td>Music</td>\n",
       "      <td>USD</td>\n",
       "      <td>2012-04-16</td>\n",
       "      <td>5000.0</td>\n",
       "      <td>2012-03-17 03:24:11</td>\n",
       "      <td>1.0</td>\n",
       "      <td>failed</td>\n",
       "      <td>1</td>\n",
       "      <td>US</td>\n",
       "      <td>1.0</td>\n",
       "      <td>1.0</td>\n",
       "      <td>5000.00</td>\n",
       "    </tr>\n",
       "    <tr>\n",
       "      <th>1000011046</th>\n",
       "      <td>Community Film Project: The Art of Neighborhoo...</td>\n",
       "      <td>Film &amp; Video</td>\n",
       "      <td>Film &amp; Video</td>\n",
       "      <td>USD</td>\n",
       "      <td>2015-08-29</td>\n",
       "      <td>19500.0</td>\n",
       "      <td>2015-07-04 08:35:03</td>\n",
       "      <td>1283.0</td>\n",
       "      <td>canceled</td>\n",
       "      <td>14</td>\n",
       "      <td>US</td>\n",
       "      <td>1283.0</td>\n",
       "      <td>1283.0</td>\n",
       "      <td>19500.00</td>\n",
       "    </tr>\n",
       "  </tbody>\n",
       "</table>\n",
       "</div>"
      ],
      "text/plain": [
       "                                                         name        category  \\\n",
       "ID                                                                              \n",
       "1000002330                    The Songs of Adelaide & Abullah          Poetry   \n",
       "1000003930      Greeting From Earth: ZGAC Arts Capsule For ET  Narrative Film   \n",
       "1000004038                                     Where is Hank?  Narrative Film   \n",
       "1000007540  ToshiCapital Rekordz Needs Help to Complete Album           Music   \n",
       "1000011046  Community Film Project: The Art of Neighborhoo...    Film & Video   \n",
       "\n",
       "           main_category currency    deadline     goal             launched  \\\n",
       "ID                                                                            \n",
       "1000002330    Publishing      GBP  2015-10-09   1000.0  2015-08-11 12:12:28   \n",
       "1000003930  Film & Video      USD  2017-11-01  30000.0  2017-09-02 04:43:57   \n",
       "1000004038  Film & Video      USD  2013-02-26  45000.0  2013-01-12 00:20:50   \n",
       "1000007540         Music      USD  2012-04-16   5000.0  2012-03-17 03:24:11   \n",
       "1000011046  Film & Video      USD  2015-08-29  19500.0  2015-07-04 08:35:03   \n",
       "\n",
       "            pledged     state  backers country  usd pledged  usd_pledged_real  \\\n",
       "ID                                                                              \n",
       "1000002330      0.0    failed        0      GB          0.0               0.0   \n",
       "1000003930   2421.0    failed       15      US        100.0            2421.0   \n",
       "1000004038    220.0    failed        3      US        220.0             220.0   \n",
       "1000007540      1.0    failed        1      US          1.0               1.0   \n",
       "1000011046   1283.0  canceled       14      US       1283.0            1283.0   \n",
       "\n",
       "            usd_goal_real  \n",
       "ID                         \n",
       "1000002330        1533.95  \n",
       "1000003930       30000.00  \n",
       "1000004038       45000.00  \n",
       "1000007540        5000.00  \n",
       "1000011046       19500.00  "
      ]
     },
     "execution_count": 10,
     "metadata": {},
     "output_type": "execute_result"
    }
   ],
   "source": [
    "df2=pd.read_csv('ks-projects-201801.csv', index_col='ID')\n",
    "df2.head()"
   ]
  },
  {
   "cell_type": "markdown",
   "metadata": {},
   "source": [
    "## 2.3 Filtrowanie Serii/DataFrame\n",
    "1. Przypisujemy kolumnę do zmiennej np o nazwie zmiennej kolumny **usd_pledged_real**, z już zaimportowanego pliku do zmiennej **df1**\n",
    "\n"
   ]
  },
  {
   "cell_type": "code",
   "execution_count": 11,
   "metadata": {},
   "outputs": [
    {
     "name": "stdout",
     "output_type": "stream",
     "text": [
      "0       0.0\n",
      "1    2421.0\n",
      "2     220.0\n",
      "3       1.0\n",
      "4    1283.0\n",
      "Name: usd_pledged_real, dtype: float64\n"
     ]
    }
   ],
   "source": [
    "usd_pledged_real=df1['usd_pledged_real']\n",
    "print(usd_pledged_real.head())"
   ]
  },
  {
   "cell_type": "markdown",
   "metadata": {},
   "source": [
    "2. Zgodnie z good pactices nazywamy w nazwie zmiennej słowa filtr i przypisujmey do niej już samą kolumnę, następnie **==** wpisujemy wartość jaka nas interesuje\n"
   ]
  },
  {
   "cell_type": "code",
   "execution_count": 10,
   "metadata": {},
   "outputs": [
    {
     "name": "stdout",
     "output_type": "stream",
     "text": [
      "0    False\n",
      "1    False\n",
      "2    False\n",
      "3    False\n",
      "4    False\n",
      "Name: usd_pledged_real, dtype: bool\n"
     ]
    }
   ],
   "source": [
    "df1Filter100 = usd_pledged_real == 100\n",
    "print(df1Filter100.head())"
   ]
  },
  {
   "cell_type": "markdown",
   "metadata": {},
   "source": [
    "3. wynik zwraca zawsze wartości boolowe\n",
    "4. No i wreszcie chcemy wyświetlić wszystkie wartości z df1, które w kolumnie **usd_pledged_real** mają wartość **100**, dodatkowo usuwamy puste krotki poprzez dodanie **.dropna**\n"
   ]
  },
  {
   "cell_type": "code",
   "execution_count": 11,
   "metadata": {},
   "outputs": [
    {
     "name": "stdout",
     "output_type": "stream",
     "text": [
      "                ID                                               name  \\\n",
      "278   1.001243e+09                                  The FUSIONproject   \n",
      "333   1.001514e+09  Help start Jacksonville's FIRST Paint Your Own...   \n",
      "395   1.001843e+09        Gospel Jazz Independant Artist - CD Project   \n",
      "699   1.003441e+09  Vanilley Bean Treats! For life's \"sweet\" moments!   \n",
      "831   1.004071e+09                      1 Man, 10 Days, 100+ Canvases   \n",
      "909   1.004514e+09                         Give in to Sweet Surrender   \n",
      "1112  1.005617e+09                            The Dousing Sauce Story   \n",
      "1297  1.006646e+09                The Die: A Comedy Horror Short Film   \n",
      "1516  1.007753e+09                                    Blue Haus Grill   \n",
      "1530  1.007821e+09                             The Life Story Project   \n",
      "\n",
      "         category main_category currency    deadline     goal  \\\n",
      "278   Documentary  Film & Video      USD  2011-04-24   5000.0   \n",
      "333      Ceramics           Art      USD  2014-11-04   8000.0   \n",
      "395         Music         Music      USD  2011-06-18   7000.0   \n",
      "699          Food          Food      USD  2012-12-25   1500.0   \n",
      "831      Painting           Art      USD  2012-11-09  10000.0   \n",
      "909   Small Batch          Food      USD  2015-02-18   5000.0   \n",
      "1112         Food          Food      USD  2015-06-01  25000.0   \n",
      "1297       Shorts  Film & Video      USD  2011-10-07   1000.0   \n",
      "1516         Food          Food      USD  2014-04-10   3000.0   \n",
      "1530        Print    Journalism      USD  2014-11-03   2500.0   \n",
      "\n",
      "                 launched  pledged   state  backers country  usd pledged  \\\n",
      "278   2011-03-24 00:08:46    100.0  failed      1.0      US        100.0   \n",
      "333   2014-09-25 00:57:10    100.0  failed      1.0      US        100.0   \n",
      "395   2011-05-19 21:34:49    100.0  failed      1.0      US        100.0   \n",
      "699   2012-11-20 01:41:51    100.0  failed      3.0      US        100.0   \n",
      "831   2012-10-05 10:13:37    100.0  failed      1.0      US        100.0   \n",
      "909   2015-01-19 02:28:05    100.0  failed      1.0      US        100.0   \n",
      "1112  2015-04-08 07:55:56    100.0  failed      3.0      US        100.0   \n",
      "1297  2011-09-07 02:07:41    100.0  failed      2.0      US        100.0   \n",
      "1516  2014-03-11 20:07:47    100.0  failed      1.0      US        100.0   \n",
      "1530  2014-10-04 03:14:42    100.0  failed      1.0      US        100.0   \n",
      "\n",
      "      usd_pledged_real  usd_goal_real  \n",
      "278              100.0         5000.0  \n",
      "333              100.0         8000.0  \n",
      "395              100.0         7000.0  \n",
      "699              100.0         1500.0  \n",
      "831              100.0        10000.0  \n",
      "909              100.0         5000.0  \n",
      "1112             100.0        25000.0  \n",
      "1297             100.0         1000.0  \n",
      "1516             100.0         3000.0  \n",
      "1530             100.0         2500.0  \n"
     ]
    }
   ],
   "source": [
    "print(df1.where(df1Filter100).dropna().head(10))"
   ]
  },
  {
   "cell_type": "markdown",
   "metadata": {},
   "source": [
    "5. Można oczywiście łączyć kilka filtrów za pomocą operatora **&**\n",
    "\n",
    "**UWAGA** Najprawdopodobniej jest to filtrowanie warunkowe, a w przypadku łączenia filtrów oba warunki muszą być spełnione"
   ]
  },
  {
   "cell_type": "code",
   "execution_count": 12,
   "metadata": {},
   "outputs": [
    {
     "name": "stdout",
     "output_type": "stream",
     "text": [
      "                  ID                                               name  \\\n",
      "278     1.001243e+09                                  The FUSIONproject   \n",
      "333     1.001514e+09  Help start Jacksonville's FIRST Paint Your Own...   \n",
      "395     1.001843e+09        Gospel Jazz Independant Artist - CD Project   \n",
      "699     1.003441e+09  Vanilley Bean Treats! For life's \"sweet\" moments!   \n",
      "831     1.004071e+09                      1 Man, 10 Days, 100+ Canvases   \n",
      "...              ...                                                ...   \n",
      "377900  9.962912e+08                                     The Year After   \n",
      "378043  9.970334e+07                 Inner Cities in America (Canceled)   \n",
      "378093  9.973334e+08                             Jai Allen's EP Project   \n",
      "378461  9.989923e+08                                     The Watchmaker   \n",
      "378640  9.998936e+08                          Ciridian Helix (Canceled)   \n",
      "\n",
      "           category main_category currency    deadline     goal  \\\n",
      "278     Documentary  Film & Video      USD  2011-04-24   5000.0   \n",
      "333        Ceramics           Art      USD  2014-11-04   8000.0   \n",
      "395           Music         Music      USD  2011-06-18   7000.0   \n",
      "699            Food          Food      USD  2012-12-25   1500.0   \n",
      "831        Painting           Art      USD  2012-11-09  10000.0   \n",
      "...             ...           ...      ...         ...      ...   \n",
      "377900  Documentary  Film & Video      USD  2015-09-16   3500.0   \n",
      "378043  Documentary  Film & Video      USD  2015-12-11    750.0   \n",
      "378093        Faith         Music      USD  2017-11-09   3500.0   \n",
      "378461   Indie Rock         Music      USD  2011-05-20  11000.0   \n",
      "378640      Fiction    Publishing      USD  2014-09-11   1000.0   \n",
      "\n",
      "                   launched  pledged     state  backers country  usd pledged  \\\n",
      "278     2011-03-24 00:08:46    100.0    failed      1.0      US        100.0   \n",
      "333     2014-09-25 00:57:10    100.0    failed      1.0      US        100.0   \n",
      "395     2011-05-19 21:34:49    100.0    failed      1.0      US        100.0   \n",
      "699     2012-11-20 01:41:51    100.0    failed      3.0      US        100.0   \n",
      "831     2012-10-05 10:13:37    100.0    failed      1.0      US        100.0   \n",
      "...                     ...      ...       ...      ...     ...          ...   \n",
      "377900  2015-08-17 08:16:19    100.0    failed      1.0      US        100.0   \n",
      "378043  2015-11-11 20:14:20    100.0  canceled      6.0      US        100.0   \n",
      "378093  2017-10-10 10:45:41    100.0    failed      2.0      US          0.0   \n",
      "378461  2011-04-06 01:44:46    100.0    failed      1.0      US        100.0   \n",
      "378640  2014-08-08 21:49:31    100.0  canceled      2.0      US        100.0   \n",
      "\n",
      "        usd_pledged_real  usd_goal_real  \n",
      "278                100.0         5000.0  \n",
      "333                100.0         8000.0  \n",
      "395                100.0         7000.0  \n",
      "699                100.0         1500.0  \n",
      "831                100.0        10000.0  \n",
      "...                  ...            ...  \n",
      "377900             100.0         3500.0  \n",
      "378043             100.0          750.0  \n",
      "378093             100.0         3500.0  \n",
      "378461             100.0        11000.0  \n",
      "378640             100.0         1000.0  \n",
      "\n",
      "[2436 rows x 15 columns]\n"
     ]
    }
   ],
   "source": [
    "df1FilterMore100 = usd_pledged_real >= 100\n",
    "\n",
    "print(df1.where(df1Filter100 & df1FilterMore100).dropna())"
   ]
  },
  {
   "cell_type": "markdown",
   "metadata": {},
   "source": [
    "## 2.4 Czyszczenie danych"
   ]
  },
  {
   "cell_type": "markdown",
   "metadata": {},
   "source": [
    "1. Można poczyścić dane z warości NULL, dzięki metodzie **.dropna**, parametr **inplace=True** informuje o zapisaniu zmian do df1!"
   ]
  },
  {
   "cell_type": "code",
   "execution_count": 13,
   "metadata": {},
   "outputs": [],
   "source": [
    "df1.dropna(inplace=True)"
   ]
  },
  {
   "cell_type": "markdown",
   "metadata": {},
   "source": [
    "## 2.5 Zapisywanie plików"
   ]
  },
  {
   "cell_type": "markdown",
   "metadata": {},
   "source": [
    "# 3 Seria a DataFrame"
   ]
  },
  {
   "cell_type": "markdown",
   "metadata": {},
   "source": [
    "## 3.1 Seria"
   ]
  },
  {
   "cell_type": "markdown",
   "metadata": {},
   "source": [
    "### 3.1.2 Atrybuty"
   ]
  },
  {
   "cell_type": "markdown",
   "metadata": {},
   "source": [
    "1. .size - rozmiar w pamięci"
   ]
  },
  {
   "cell_type": "code",
   "execution_count": 12,
   "metadata": {},
   "outputs": [
    {
     "data": {
      "text/plain": [
       "5679915"
      ]
     },
     "execution_count": 12,
     "metadata": {},
     "output_type": "execute_result"
    }
   ],
   "source": [
    "df1.size"
   ]
  },
  {
   "cell_type": "markdown",
   "metadata": {},
   "source": [
    "2. .nbytes - ilość bytów dla Serii (inaczek kolumny). Dlatego najpierw definiuje serie"
   ]
  },
  {
   "cell_type": "code",
   "execution_count": 15,
   "metadata": {},
   "outputs": [
    {
     "data": {
      "text/plain": [
       "2998880"
      ]
     },
     "execution_count": 15,
     "metadata": {},
     "output_type": "execute_result"
    }
   ],
   "source": [
    "seria=df1['name']\n",
    "seria.nbytes"
   ]
  },
  {
   "cell_type": "markdown",
   "metadata": {},
   "source": [
    "3. .is_unique - czy posiada dana seria unikalne wartości"
   ]
  },
  {
   "cell_type": "code",
   "execution_count": 16,
   "metadata": {},
   "outputs": [
    {
     "data": {
      "text/plain": [
       "False"
      ]
     },
     "execution_count": 16,
     "metadata": {},
     "output_type": "execute_result"
    }
   ],
   "source": [
    "seria.is_unique"
   ]
  },
  {
   "cell_type": "markdown",
   "metadata": {},
   "source": [
    "4. .is_monotonic - monotoniczne lub posortowane"
   ]
  },
  {
   "cell_type": "code",
   "execution_count": 17,
   "metadata": {},
   "outputs": [
    {
     "data": {
      "text/plain": [
       "False"
      ]
     },
     "execution_count": 17,
     "metadata": {},
     "output_type": "execute_result"
    }
   ],
   "source": [
    "seria.is_monotonic"
   ]
  },
  {
   "cell_type": "markdown",
   "metadata": {},
   "source": [
    "5. .index - budowa indexu"
   ]
  },
  {
   "cell_type": "code",
   "execution_count": 18,
   "metadata": {},
   "outputs": [
    {
     "data": {
      "text/plain": [
       "Int64Index([     0,      1,      2,      3,      4,      5,      6,      7,\n",
       "                 8,      9,\n",
       "            ...\n",
       "            378651, 378652, 378653, 378654, 378655, 378656, 378657, 378658,\n",
       "            378659, 378660],\n",
       "           dtype='int64', length=374860)"
      ]
     },
     "execution_count": 18,
     "metadata": {},
     "output_type": "execute_result"
    }
   ],
   "source": [
    "df1.index"
   ]
  },
  {
   "cell_type": "markdown",
   "metadata": {},
   "source": [
    "6. .values - jakie wartości"
   ]
  },
  {
   "cell_type": "code",
   "execution_count": 19,
   "metadata": {},
   "outputs": [
    {
     "data": {
      "text/plain": [
       "array(['The Songs of Adelaide & Abullah',\n",
       "       'Greeting From Earth: ZGAC Arts Capsule For ET', 'Where is Hank?',\n",
       "       ...,\n",
       "       'Walls of Remedy- New lesbian Romantic Comedy feature unlike any other!!',\n",
       "       'BioDefense Education Kit', 'Nou Renmen Ayiti!  We Love Haiti!'],\n",
       "      dtype=object)"
      ]
     },
     "execution_count": 19,
     "metadata": {},
     "output_type": "execute_result"
    }
   ],
   "source": [
    "seria.values"
   ]
  },
  {
   "cell_type": "markdown",
   "metadata": {},
   "source": [
    "7. .dtype - jakiego typu są kolumny"
   ]
  },
  {
   "cell_type": "code",
   "execution_count": 20,
   "metadata": {},
   "outputs": [
    {
     "data": {
      "text/plain": [
       "ID                    int64\n",
       "name                 object\n",
       "category             object\n",
       "main_category        object\n",
       "currency             object\n",
       "deadline             object\n",
       "goal                float64\n",
       "launched             object\n",
       "pledged             float64\n",
       "state                object\n",
       "backers               int64\n",
       "country              object\n",
       "usd pledged         float64\n",
       "usd_pledged_real    float64\n",
       "usd_goal_real       float64\n",
       "dtype: object"
      ]
     },
     "execution_count": 20,
     "metadata": {},
     "output_type": "execute_result"
    }
   ],
   "source": [
    "df1.dtypes"
   ]
  },
  {
   "cell_type": "markdown",
   "metadata": {},
   "source": [
    "8. .shape - kształt"
   ]
  },
  {
   "cell_type": "code",
   "execution_count": 21,
   "metadata": {},
   "outputs": [
    {
     "data": {
      "text/plain": [
       "(374860, 15)"
      ]
     },
     "execution_count": 21,
     "metadata": {},
     "output_type": "execute_result"
    }
   ],
   "source": [
    "df1.shape"
   ]
  },
  {
   "cell_type": "markdown",
   "metadata": {},
   "source": [
    "9. .axes - współrzędne"
   ]
  },
  {
   "cell_type": "code",
   "execution_count": 22,
   "metadata": {},
   "outputs": [
    {
     "data": {
      "text/plain": [
       "[Int64Index([     0,      1,      2,      3,      4,      5,      6,      7,\n",
       "                  8,      9,\n",
       "             ...\n",
       "             378651, 378652, 378653, 378654, 378655, 378656, 378657, 378658,\n",
       "             378659, 378660],\n",
       "            dtype='int64', length=374860),\n",
       " Index(['ID', 'name', 'category', 'main_category', 'currency', 'deadline',\n",
       "        'goal', 'launched', 'pledged', 'state', 'backers', 'country',\n",
       "        'usd pledged', 'usd_pledged_real', 'usd_goal_real'],\n",
       "       dtype='object')]"
      ]
     },
     "execution_count": 22,
     "metadata": {},
     "output_type": "execute_result"
    }
   ],
   "source": [
    "df1.axes"
   ]
  },
  {
   "cell_type": "markdown",
   "metadata": {},
   "source": [
    "### 3.1.3 Metody"
   ]
  },
  {
   "cell_type": "markdown",
   "metadata": {},
   "source": [
    "1. .sum()"
   ]
  },
  {
   "cell_type": "code",
   "execution_count": 14,
   "metadata": {},
   "outputs": [
    {
     "data": {
      "text/plain": [
       "406958787889654"
      ]
     },
     "execution_count": 14,
     "metadata": {},
     "output_type": "execute_result"
    }
   ],
   "source": [
    "seriaM=df1['ID']\n",
    "seriaM.sum()"
   ]
  },
  {
   "cell_type": "markdown",
   "metadata": {},
   "source": [
    "2. seriaM.min()"
   ]
  },
  {
   "cell_type": "code",
   "execution_count": 15,
   "metadata": {},
   "outputs": [
    {
     "data": {
      "text/plain": [
       "5971"
      ]
     },
     "execution_count": 15,
     "metadata": {},
     "output_type": "execute_result"
    }
   ],
   "source": [
    "seriaM.min()"
   ]
  },
  {
   "cell_type": "markdown",
   "metadata": {},
   "source": [
    "3. .max()"
   ]
  },
  {
   "cell_type": "code",
   "execution_count": 16,
   "metadata": {},
   "outputs": [
    {
     "data": {
      "text/plain": [
       "2147476221"
      ]
     },
     "execution_count": 16,
     "metadata": {},
     "output_type": "execute_result"
    }
   ],
   "source": [
    "seriaM.max()"
   ]
  },
  {
   "cell_type": "markdown",
   "metadata": {},
   "source": [
    "4. .count()"
   ]
  },
  {
   "cell_type": "code",
   "execution_count": 17,
   "metadata": {},
   "outputs": [
    {
     "data": {
      "text/plain": [
       "378661"
      ]
     },
     "execution_count": 17,
     "metadata": {},
     "output_type": "execute_result"
    }
   ],
   "source": [
    "seriaM.count()"
   ]
  },
  {
   "cell_type": "markdown",
   "metadata": {},
   "source": [
    "5. .size"
   ]
  },
  {
   "cell_type": "code",
   "execution_count": 20,
   "metadata": {},
   "outputs": [
    {
     "data": {
      "text/plain": [
       "378661"
      ]
     },
     "execution_count": 20,
     "metadata": {},
     "output_type": "execute_result"
    }
   ],
   "source": [
    "seriaM.size"
   ]
  },
  {
   "cell_type": "markdown",
   "metadata": {},
   "source": [
    "6. .product - wymnarza wszystko przez siebie i zwraca wynik, jakiś taki iloczyn kartezjański"
   ]
  },
  {
   "cell_type": "code",
   "execution_count": 22,
   "metadata": {},
   "outputs": [
    {
     "data": {
      "text/plain": [
       "<bound method Series.prod of 0         1000002330\n",
       "1         1000003930\n",
       "2         1000004038\n",
       "3         1000007540\n",
       "4         1000011046\n",
       "             ...    \n",
       "378656     999976400\n",
       "378657     999977640\n",
       "378658     999986353\n",
       "378659     999987933\n",
       "378660     999988282\n",
       "Name: ID, Length: 378661, dtype: int64>"
      ]
     },
     "execution_count": 22,
     "metadata": {},
     "output_type": "execute_result"
    }
   ],
   "source": [
    "seriaM.product"
   ]
  },
  {
   "cell_type": "markdown",
   "metadata": {},
   "source": [
    "7. .keys()"
   ]
  },
  {
   "cell_type": "code",
   "execution_count": 24,
   "metadata": {},
   "outputs": [
    {
     "data": {
      "text/plain": [
       "RangeIndex(start=0, stop=378661, step=1)"
      ]
     },
     "execution_count": 24,
     "metadata": {},
     "output_type": "execute_result"
    }
   ],
   "source": [
    "seriaM.keys()"
   ]
  },
  {
   "cell_type": "markdown",
   "metadata": {},
   "source": [
    "8. .get_values"
   ]
  },
  {
   "cell_type": "code",
   "execution_count": 43,
   "metadata": {},
   "outputs": [
    {
     "data": {
      "text/plain": [
       "<bound method Series.get_values of 0         1000002330\n",
       "1         1000003930\n",
       "2         1000004038\n",
       "3         1000007540\n",
       "4         1000011046\n",
       "             ...    \n",
       "378656     999976400\n",
       "378657     999977640\n",
       "378658     999986353\n",
       "378659     999987933\n",
       "378660     999988282\n",
       "Name: ID, Length: 378661, dtype: int64>"
      ]
     },
     "execution_count": 43,
     "metadata": {},
     "output_type": "execute_result"
    }
   ],
   "source": [
    "seriaM.get_values"
   ]
  },
  {
   "cell_type": "markdown",
   "metadata": {},
   "source": [
    "9. .tolist() - przekształcenie SERIES do Listy!!!"
   ]
  },
  {
   "cell_type": "code",
   "execution_count": 30,
   "metadata": {},
   "outputs": [
    {
     "data": {
      "text/plain": [
       "[1000002330,\n",
       " 1000003930,\n",
       " 1000004038,\n",
       " 1000007540,\n",
       " 1000011046,\n",
       " 1000014025,\n",
       " 1000023410,\n",
       " 1000030581,\n",
       " 1000034518,\n",
       " 100004195,\n",
       " 100004721,\n",
       " 100005484,\n",
       " 1000055792,\n",
       " 1000056157,\n",
       " 1000057089,\n",
       " 1000064368,\n",
       " 1000064918,\n",
       " 1000068480,\n",
       " 1000070642,\n",
       " 1000071625,\n",
       " 1000072011,\n",
       " 1000081649,\n",
       " 1000082254,\n",
       " 1000087442,\n",
       " 1000091520,\n",
       " 1000102741,\n",
       " 1000103948,\n",
       " 1000104688,\n",
       " 1000104953,\n",
       " 100011318,\n",
       " 1000115172,\n",
       " 1000117861,\n",
       " 1000120151,\n",
       " 1000120287,\n",
       " 100012079,\n",
       " 1000129669,\n",
       " 1000131947,\n",
       " 1000132945,\n",
       " 1000134913,\n",
       " 1000146991,\n",
       " 1000149007,\n",
       " 1000153208,\n",
       " 1000160286,\n",
       " 1000170964,\n",
       " 1000171141,\n",
       " 1000182258,\n",
       " 1000183112,\n",
       " 1000184224,\n",
       " 1000190427,\n",
       " 1000197321,\n",
       " 1000201265,\n",
       " 100020143,\n",
       " 1000202062,\n",
       " 1000212914,\n",
       " 1000216800,\n",
       " 1000217634,\n",
       " 1000226576,\n",
       " 1000227361,\n",
       " 1000230071,\n",
       " 1000232288,\n",
       " 1000233415,\n",
       " 1000234595,\n",
       " 1000235465,\n",
       " 1000235643,\n",
       " 1000243793,\n",
       " 1000245024,\n",
       " 1000252415,\n",
       " 1000256230,\n",
       " 1000256760,\n",
       " 1000257563,\n",
       " 1000260691,\n",
       " 1000261018,\n",
       " 1000268182,\n",
       " 1000278154,\n",
       " 1000282287,\n",
       " 1000291122,\n",
       " 1000291263,\n",
       " 1000294559,\n",
       " 1000320473,\n",
       " 1000328150,\n",
       " 1000328328,\n",
       " 1000331311,\n",
       " 1000332383,\n",
       " 1000333671,\n",
       " 1000334074,\n",
       " 1000335422,\n",
       " 1000338818,\n",
       " 1000339877,\n",
       " 1000340977,\n",
       " 1000344383,\n",
       " 1000348690,\n",
       " 1000348776,\n",
       " 1000354338,\n",
       " 10003650,\n",
       " 1000374001,\n",
       " 1000386601,\n",
       " 1000389241,\n",
       " 1000392220,\n",
       " 100039820,\n",
       " 1000399155,\n",
       " 1000405957,\n",
       " 1000413719,\n",
       " 1000415969,\n",
       " 1000422671,\n",
       " 1000427280,\n",
       " 1000428719,\n",
       " 10004373,\n",
       " 100044420,\n",
       " 1000445513,\n",
       " 1000450327,\n",
       " 1000454605,\n",
       " 1000465399,\n",
       " 1000468345,\n",
       " 1000476123,\n",
       " 1000479996,\n",
       " 1000481607,\n",
       " 1000490852,\n",
       " 1000491057,\n",
       " 1000491830,\n",
       " 1000499845,\n",
       " 1000509854,\n",
       " 1000514796,\n",
       " 100051531,\n",
       " 1000519001,\n",
       " 1000521061,\n",
       " 1000521421,\n",
       " 1000524949,\n",
       " 1000535116,\n",
       " 1000537760,\n",
       " 1000542390,\n",
       " 1000543883,\n",
       " 1000545028,\n",
       " 1000549881,\n",
       " 1000551777,\n",
       " 1000553538,\n",
       " 1000558429,\n",
       " 1000566862,\n",
       " 1000567557,\n",
       " 100056789,\n",
       " 100057323,\n",
       " 1000577059,\n",
       " 10005784,\n",
       " 1000581546,\n",
       " 1000581804,\n",
       " 1000586849,\n",
       " 1000590709,\n",
       " 1000598804,\n",
       " 1000600012,\n",
       " 1000600526,\n",
       " 1000600868,\n",
       " 1000602156,\n",
       " 1000620551,\n",
       " 1000624031,\n",
       " 1000627718,\n",
       " 1000629643,\n",
       " 1000638156,\n",
       " 1000639526,\n",
       " 1000644119,\n",
       " 1000648117,\n",
       " 1000648918,\n",
       " 100065084,\n",
       " 1000650960,\n",
       " 1000654344,\n",
       " 1000654409,\n",
       " 1000656794,\n",
       " 1000659557,\n",
       " 1000674477,\n",
       " 1000682368,\n",
       " 1000684975,\n",
       " 1000694855,\n",
       " 1000697657,\n",
       " 1000699196,\n",
       " 1000707541,\n",
       " 1000710630,\n",
       " 1000719127,\n",
       " 1000725978,\n",
       " 1000727191,\n",
       " 1000727905,\n",
       " 1000741180,\n",
       " 1000741387,\n",
       " 1000752960,\n",
       " 1000754401,\n",
       " 1000758916,\n",
       " 1000761521,\n",
       " 1000767040,\n",
       " 1000770149,\n",
       " 1000772297,\n",
       " 1000776914,\n",
       " 1000777557,\n",
       " 1000781363,\n",
       " 1000781512,\n",
       " 1000785030,\n",
       " 1000786724,\n",
       " 1000788629,\n",
       " 100078996,\n",
       " 1000802137,\n",
       " 1000804307,\n",
       " 1000804742,\n",
       " 1000810416,\n",
       " 1000811882,\n",
       " 1000823935,\n",
       " 1000827504,\n",
       " 1000827890,\n",
       " 1000834930,\n",
       " 1000844246,\n",
       " 1000850525,\n",
       " 1000853310,\n",
       " 1000865260,\n",
       " 1000869383,\n",
       " 1000883509,\n",
       " 1000885772,\n",
       " 100089599,\n",
       " 1000896053,\n",
       " 1000916036,\n",
       " 1000918505,\n",
       " 100091944,\n",
       " 1000922108,\n",
       " 1000932522,\n",
       " 1000937140,\n",
       " 1000940032,\n",
       " 1000942804,\n",
       " 1000953875,\n",
       " 1000968500,\n",
       " 1000983983,\n",
       " 1000987760,\n",
       " 1000988678,\n",
       " 1000988864,\n",
       " 1000992739,\n",
       " 1000997384,\n",
       " 1001000566,\n",
       " 100101389,\n",
       " 100101652,\n",
       " 1001019464,\n",
       " 1001020080,\n",
       " 100102338,\n",
       " 1001028167,\n",
       " 1001033266,\n",
       " 1001035783,\n",
       " 1001042227,\n",
       " 1001043181,\n",
       " 1001048123,\n",
       " 1001052357,\n",
       " 1001057158,\n",
       " 1001064677,\n",
       " 1001077166,\n",
       " 1001086968,\n",
       " 1001087429,\n",
       " 1001087682,\n",
       " 1001093391,\n",
       " 1001097057,\n",
       " 1001110351,\n",
       " 1001115961,\n",
       " 1001116225,\n",
       " 1001126692,\n",
       " 1001128468,\n",
       " 1001132597,\n",
       " 1001135664,\n",
       " 1001136944,\n",
       " 1001137002,\n",
       " 1001143049,\n",
       " 1001149306,\n",
       " 100114978,\n",
       " 1001156528,\n",
       " 1001157858,\n",
       " 1001159174,\n",
       " 1001165113,\n",
       " 10011702,\n",
       " 1001181420,\n",
       " 1001188527,\n",
       " 1001190550,\n",
       " 1001216413,\n",
       " 1001217929,\n",
       " 1001218320,\n",
       " 1001223817,\n",
       " 1001227372,\n",
       " 1001228129,\n",
       " 1001230250,\n",
       " 1001242672,\n",
       " 1001243185,\n",
       " 1001243867,\n",
       " 1001244864,\n",
       " 100124630,\n",
       " 1001251896,\n",
       " 1001259618,\n",
       " 1001263250,\n",
       " 1001265769,\n",
       " 1001270191,\n",
       " 1001279854,\n",
       " 1001288451,\n",
       " 1001292387,\n",
       " 1001295591,\n",
       " 100130008,\n",
       " 1001302417,\n",
       " 1001302832,\n",
       " 1001303993,\n",
       " 1001304256,\n",
       " 1001328623,\n",
       " 1001333672,\n",
       " 1001338336,\n",
       " 1001338443,\n",
       " 1001339505,\n",
       " 1001340544,\n",
       " 100134337,\n",
       " 1001344493,\n",
       " 1001347176,\n",
       " 1001348491,\n",
       " 1001352451,\n",
       " 1001353002,\n",
       " 1001353112,\n",
       " 1001366443,\n",
       " 1001368898,\n",
       " 1001373564,\n",
       " 1001377540,\n",
       " 1001404128,\n",
       " 1001407622,\n",
       " 1001423755,\n",
       " 1001432466,\n",
       " 1001435839,\n",
       " 1001442355,\n",
       " 1001442379,\n",
       " 100144828,\n",
       " 1001468086,\n",
       " 100147142,\n",
       " 1001473842,\n",
       " 1001476723,\n",
       " 1001484182,\n",
       " 1001490622,\n",
       " 1001494526,\n",
       " 100149523,\n",
       " 1001498884,\n",
       " 1001502333,\n",
       " 1001503577,\n",
       " 1001508135,\n",
       " 1001513743,\n",
       " 1001516983,\n",
       " 1001523858,\n",
       " 1001524172,\n",
       " 1001527526,\n",
       " 1001529115,\n",
       " 1001529854,\n",
       " 1001542282,\n",
       " 1001543887,\n",
       " 1001548662,\n",
       " 1001556760,\n",
       " 1001560762,\n",
       " 1001565620,\n",
       " 1001566226,\n",
       " 1001567779,\n",
       " 1001570537,\n",
       " 1001573862,\n",
       " 1001575705,\n",
       " 1001576108,\n",
       " 1001578248,\n",
       " 100158537,\n",
       " 1001591110,\n",
       " 1001600663,\n",
       " 100161658,\n",
       " 100162622,\n",
       " 1001639879,\n",
       " 1001639910,\n",
       " 1001650469,\n",
       " 1001656127,\n",
       " 1001664105,\n",
       " 1001685760,\n",
       " 1001687258,\n",
       " 1001689284,\n",
       " 1001696224,\n",
       " 1001704257,\n",
       " 1001708060,\n",
       " 100171056,\n",
       " 1001711592,\n",
       " 1001714289,\n",
       " 1001723373,\n",
       " 1001726950,\n",
       " 1001732009,\n",
       " 100173367,\n",
       " 100173829,\n",
       " 1001751835,\n",
       " 1001762923,\n",
       " 1001768094,\n",
       " 1001778275,\n",
       " 1001780885,\n",
       " 1001786083,\n",
       " 1001787855,\n",
       " 1001796633,\n",
       " 100181036,\n",
       " 1001813414,\n",
       " 1001814122,\n",
       " 1001817414,\n",
       " 1001820357,\n",
       " 100182282,\n",
       " 1001823329,\n",
       " 10018239,\n",
       " 1001838811,\n",
       " 1001839289,\n",
       " 1001842762,\n",
       " 1001846249,\n",
       " 1001856035,\n",
       " 1001857288,\n",
       " 1001863639,\n",
       " 1001878319,\n",
       " 100188605,\n",
       " 1001892879,\n",
       " 1001899204,\n",
       " 1001904214,\n",
       " 1001904397,\n",
       " 1001916592,\n",
       " 1001923268,\n",
       " 1001924624,\n",
       " 100194308,\n",
       " 1001951313,\n",
       " 100196479,\n",
       " 1001967967,\n",
       " 1001973436,\n",
       " 1001975568,\n",
       " 1001979324,\n",
       " 1001981525,\n",
       " 1001988165,\n",
       " 1001989065,\n",
       " 1001991458,\n",
       " 1001994928,\n",
       " 1002004487,\n",
       " 1002005884,\n",
       " 1002007289,\n",
       " 1002027893,\n",
       " 1002029488,\n",
       " 1002031061,\n",
       " 1002042898,\n",
       " 1002045558,\n",
       " 1002058532,\n",
       " 1002058739,\n",
       " 1002071867,\n",
       " 100207951,\n",
       " 1002085616,\n",
       " 1002087593,\n",
       " 1002089437,\n",
       " 1002096459,\n",
       " 1002098978,\n",
       " 1002100913,\n",
       " 1002105969,\n",
       " 1002109548,\n",
       " 1002117681,\n",
       " 1002117994,\n",
       " 100212057,\n",
       " 1002122038,\n",
       " 1002125056,\n",
       " 1002125164,\n",
       " 100212849,\n",
       " 1002131859,\n",
       " 1002132449,\n",
       " 1002132537,\n",
       " 1002133517,\n",
       " 1002139381,\n",
       " 1002139540,\n",
       " 1002140523,\n",
       " 1002151750,\n",
       " 1002181673,\n",
       " 1002182970,\n",
       " 1002183790,\n",
       " 1002187988,\n",
       " 1002189572,\n",
       " 1002191351,\n",
       " 1002191592,\n",
       " 1002193030,\n",
       " 1002193523,\n",
       " 1002208176,\n",
       " 1002211518,\n",
       " 1002222234,\n",
       " 1002222363,\n",
       " 1002226766,\n",
       " 1002234028,\n",
       " 100224840,\n",
       " 1002250421,\n",
       " 1002264833,\n",
       " 1002269200,\n",
       " 1002272545,\n",
       " 100227845,\n",
       " 1002287054,\n",
       " 1002289150,\n",
       " 1002294238,\n",
       " 1002295749,\n",
       " 1002299677,\n",
       " 1002304874,\n",
       " 100230798,\n",
       " 1002308373,\n",
       " 1002312219,\n",
       " 1002342607,\n",
       " 1002344676,\n",
       " 1002355670,\n",
       " 1002363227,\n",
       " 100236770,\n",
       " 1002368838,\n",
       " 1002371950,\n",
       " 1002372799,\n",
       " 1002379225,\n",
       " 1002382304,\n",
       " 1002383422,\n",
       " 1002384825,\n",
       " 1002388106,\n",
       " 1002400187,\n",
       " 1002405311,\n",
       " 1002407161,\n",
       " 1002416983,\n",
       " 1002418598,\n",
       " 10024216,\n",
       " 1002421792,\n",
       " 1002436709,\n",
       " 1002444966,\n",
       " 100245014,\n",
       " 1002451969,\n",
       " 1002453633,\n",
       " 1002455585,\n",
       " 1002456171,\n",
       " 1002478333,\n",
       " 1002484986,\n",
       " 1002490303,\n",
       " 1002492289,\n",
       " 10024998,\n",
       " 1002500521,\n",
       " 1002511877,\n",
       " 1002512911,\n",
       " 1002514543,\n",
       " 1002515281,\n",
       " 1002519316,\n",
       " 1002520944,\n",
       " 1002521611,\n",
       " 1002522073,\n",
       " 1002524565,\n",
       " 1002538085,\n",
       " 1002554777,\n",
       " 1002560995,\n",
       " 1002570423,\n",
       " 1002571103,\n",
       " 1002585330,\n",
       " 1002586292,\n",
       " 1002590077,\n",
       " 1002597730,\n",
       " 1002599057,\n",
       " 1002599773,\n",
       " 1002599863,\n",
       " 1002611685,\n",
       " 1002617687,\n",
       " 1002621189,\n",
       " 1002624093,\n",
       " 1002629894,\n",
       " 100263139,\n",
       " 1002633138,\n",
       " 100264379,\n",
       " 1002646104,\n",
       " 1002646572,\n",
       " 1002651584,\n",
       " 1002664274,\n",
       " 1002674727,\n",
       " 1002681356,\n",
       " 1002684709,\n",
       " 1002692211,\n",
       " 1002710067,\n",
       " 1002715554,\n",
       " 1002717273,\n",
       " 1002717707,\n",
       " 1002720451,\n",
       " 1002721954,\n",
       " 1002723323,\n",
       " 1002723555,\n",
       " 1002724533,\n",
       " 1002728217,\n",
       " 1002734991,\n",
       " 1002740336,\n",
       " 1002745522,\n",
       " 1002746950,\n",
       " 1002749658,\n",
       " 100275914,\n",
       " 1002762500,\n",
       " 1002767552,\n",
       " 1002768509,\n",
       " 1002770238,\n",
       " 1002772966,\n",
       " 1002777672,\n",
       " 1002780789,\n",
       " 1002783462,\n",
       " 100278912,\n",
       " 1002789295,\n",
       " 1002789956,\n",
       " 1002799755,\n",
       " 1002810193,\n",
       " 1002812438,\n",
       " 100281397,\n",
       " 1002835689,\n",
       " 1002840021,\n",
       " 1002843911,\n",
       " 1002854072,\n",
       " 1002854457,\n",
       " 1002856989,\n",
       " 1002857267,\n",
       " 1002864290,\n",
       " 1002868550,\n",
       " 1002877175,\n",
       " 1002884058,\n",
       " 1002884302,\n",
       " 1002885178,\n",
       " 1002886944,\n",
       " 1002894446,\n",
       " 1002899845,\n",
       " 1002904556,\n",
       " 1002907198,\n",
       " 1002909435,\n",
       " 1002910237,\n",
       " 1002911532,\n",
       " 1002914380,\n",
       " 1002919742,\n",
       " 1002933346,\n",
       " 1002937987,\n",
       " 1002938908,\n",
       " 1002939824,\n",
       " 1002944526,\n",
       " 1002946462,\n",
       " 1002957206,\n",
       " 1002958908,\n",
       " 1002959927,\n",
       " 1002965096,\n",
       " 1002966619,\n",
       " 100296818,\n",
       " 1002981465,\n",
       " 1002984666,\n",
       " 1002985353,\n",
       " 1002987150,\n",
       " 1002997533,\n",
       " 100301082,\n",
       " 1003011722,\n",
       " 100301303,\n",
       " 1003014108,\n",
       " 100301891,\n",
       " 1003023003,\n",
       " 1003036680,\n",
       " 1003053633,\n",
       " 1003074300,\n",
       " 1003074363,\n",
       " 1003075861,\n",
       " 1003083361,\n",
       " 1003087682,\n",
       " 1003095315,\n",
       " 1003104071,\n",
       " 1003111955,\n",
       " 1003118035,\n",
       " 1003122437,\n",
       " 1003125430,\n",
       " 1003127225,\n",
       " 1003130892,\n",
       " 1003138593,\n",
       " 10031522,\n",
       " 1003155427,\n",
       " 1003165056,\n",
       " 1003166589,\n",
       " 1003167050,\n",
       " 1003169165,\n",
       " 1003182869,\n",
       " 1003189373,\n",
       " 1003190758,\n",
       " 1003202814,\n",
       " 1003216930,\n",
       " 1003217096,\n",
       " 1003228594,\n",
       " 1003229159,\n",
       " 100324011,\n",
       " 1003240719,\n",
       " 1003249516,\n",
       " 1003259197,\n",
       " 1003262687,\n",
       " 1003276918,\n",
       " 1003279532,\n",
       " 100328540,\n",
       " 1003293246,\n",
       " 1003294350,\n",
       " 1003298216,\n",
       " 1003308182,\n",
       " 1003312804,\n",
       " 1003329858,\n",
       " 1003330319,\n",
       " 1003338175,\n",
       " 1003343308,\n",
       " 1003346672,\n",
       " 1003353231,\n",
       " 1003356565,\n",
       " 1003357844,\n",
       " 1003362350,\n",
       " 1003362537,\n",
       " 1003365384,\n",
       " 1003366986,\n",
       " 1003367610,\n",
       " 1003378025,\n",
       " 1003381,\n",
       " 1003405223,\n",
       " 1003413226,\n",
       " 1003413796,\n",
       " 100341575,\n",
       " 1003424923,\n",
       " 100343348,\n",
       " 1003434687,\n",
       " 1003436789,\n",
       " 1003441266,\n",
       " 1003442902,\n",
       " 1003447204,\n",
       " 1003449040,\n",
       " 1003456090,\n",
       " 1003458038,\n",
       " 1003458646,\n",
       " 1003462608,\n",
       " 10034684,\n",
       " 1003478705,\n",
       " 1003480324,\n",
       " 1003481542,\n",
       " 1003481744,\n",
       " 10034874,\n",
       " 1003490202,\n",
       " 1003490559,\n",
       " 100349058,\n",
       " 1003494681,\n",
       " 1003497710,\n",
       " 1003499986,\n",
       " 1003500295,\n",
       " 1003500859,\n",
       " 1003503289,\n",
       " 1003506524,\n",
       " 1003506965,\n",
       " 1003509297,\n",
       " 1003514666,\n",
       " 1003515712,\n",
       " 1003521001,\n",
       " 1003523496,\n",
       " 1003523631,\n",
       " 1003523647,\n",
       " 1003525413,\n",
       " 1003533888,\n",
       " 1003538517,\n",
       " 1003539829,\n",
       " 1003548564,\n",
       " 1003558634,\n",
       " 1003560849,\n",
       " 1003561048,\n",
       " 1003561611,\n",
       " 1003568124,\n",
       " 1003570206,\n",
       " 1003572906,\n",
       " 1003583457,\n",
       " 1003583595,\n",
       " 100358406,\n",
       " 100359228,\n",
       " 1003596506,\n",
       " 1003616594,\n",
       " 1003629045,\n",
       " 1003637092,\n",
       " 100365021,\n",
       " 1003665581,\n",
       " 1003666213,\n",
       " 1003666645,\n",
       " 1003666946,\n",
       " 1003674692,\n",
       " 1003677068,\n",
       " 1003708660,\n",
       " 1003709180,\n",
       " 100371737,\n",
       " 1003723279,\n",
       " 1003725305,\n",
       " 1003727338,\n",
       " 100372771,\n",
       " 1003742402,\n",
       " 1003743392,\n",
       " 100375774,\n",
       " 1003757970,\n",
       " 1003760463,\n",
       " 1003761602,\n",
       " 1003769496,\n",
       " 1003770739,\n",
       " 1003775701,\n",
       " 1003775790,\n",
       " 1003778636,\n",
       " 1003793542,\n",
       " 1003794504,\n",
       " 100379732,\n",
       " 1003801298,\n",
       " 1003804028,\n",
       " 1003804552,\n",
       " 1003813966,\n",
       " 1003819770,\n",
       " 1003829191,\n",
       " 1003830843,\n",
       " 1003832819,\n",
       " 1003835559,\n",
       " 100385010,\n",
       " 1003851620,\n",
       " 1003856570,\n",
       " 1003865687,\n",
       " 1003865949,\n",
       " 1003868419,\n",
       " 1003884132,\n",
       " 1003886618,\n",
       " 1003889504,\n",
       " 1003899141,\n",
       " 1003900292,\n",
       " 1003901425,\n",
       " 1003904501,\n",
       " 1003906010,\n",
       " 1003909472,\n",
       " 1003928652,\n",
       " 1003928906,\n",
       " 1003933374,\n",
       " 1003938077,\n",
       " 1003940608,\n",
       " 1003946946,\n",
       " 1003953048,\n",
       " 1003953996,\n",
       " 1003957942,\n",
       " 100395799,\n",
       " 1003960110,\n",
       " 100396408,\n",
       " 1003967599,\n",
       " 1003973953,\n",
       " 1003974659,\n",
       " 1003983201,\n",
       " 1003990867,\n",
       " 100399282,\n",
       " 1003997707,\n",
       " 1004008910,\n",
       " 1004010327,\n",
       " 1004013077,\n",
       " 1004015081,\n",
       " 1004020983,\n",
       " 1004025520,\n",
       " 1004027294,\n",
       " 1004030065,\n",
       " 1004065093,\n",
       " 1004070621,\n",
       " 1004080416,\n",
       " 10040833,\n",
       " 1004084377,\n",
       " 1004088982,\n",
       " 1004091259,\n",
       " 1004094650,\n",
       " 1004097002,\n",
       " 1004098791,\n",
       " 1004109096,\n",
       " 1004112120,\n",
       " 100411349,\n",
       " 1004125151,\n",
       " 1004126342,\n",
       " 1004126907,\n",
       " 100413062,\n",
       " 1004131124,\n",
       " 1004138236,\n",
       " 1004152737,\n",
       " 1004156743,\n",
       " 1004167304,\n",
       " 1004189486,\n",
       " 1004192678,\n",
       " 1004198028,\n",
       " 1004203496,\n",
       " 1004211205,\n",
       " 1004216021,\n",
       " 1004218067,\n",
       " 1004220301,\n",
       " 1004220332,\n",
       " 1004226383,\n",
       " 1004236435,\n",
       " 1004249231,\n",
       " 1004255433,\n",
       " 1004261287,\n",
       " 1004269025,\n",
       " 1004275298,\n",
       " 1004275497,\n",
       " 1004286651,\n",
       " 1004298993,\n",
       " 1004303528,\n",
       " 1004304382,\n",
       " 1004304591,\n",
       " 1004307461,\n",
       " 1004307530,\n",
       " 1004317441,\n",
       " 100433895,\n",
       " 1004339642,\n",
       " 1004349656,\n",
       " 1004353925,\n",
       " 1004356539,\n",
       " 1004367374,\n",
       " 100437007,\n",
       " 1004372197,\n",
       " 1004377000,\n",
       " 1004379805,\n",
       " 100438743,\n",
       " 1004394288,\n",
       " 1004399460,\n",
       " 1004402863,\n",
       " 1004405723,\n",
       " 1004405919,\n",
       " 10044110,\n",
       " 1004434782,\n",
       " 1004436383,\n",
       " 1004448951,\n",
       " 1004451940,\n",
       " 1004456764,\n",
       " 1004457833,\n",
       " 1004458643,\n",
       " 1004468122,\n",
       " 1004473432,\n",
       " 1004480789,\n",
       " 100448936,\n",
       " 1004493837,\n",
       " 1004500333,\n",
       " 1004506986,\n",
       " 1004511073,\n",
       " 1004513718,\n",
       " 1004516410,\n",
       " 100452386,\n",
       " 1004551323,\n",
       " 100455559,\n",
       " 1004559427,\n",
       " 1004560254,\n",
       " 1004597770,\n",
       " 1004598628,\n",
       " 1004598691,\n",
       " 100459896,\n",
       " 100459984,\n",
       " 1004600408,\n",
       " 1004619032,\n",
       " 1004621325,\n",
       " 1004621740,\n",
       " 1004637630,\n",
       " 1004638242,\n",
       " 1004641424,\n",
       " 100464296,\n",
       " 1004648273,\n",
       " 1004649506,\n",
       " 1004666737,\n",
       " 1004668657,\n",
       " 1004671073,\n",
       " 1004671876,\n",
       " 1004686676,\n",
       " 1004687584,\n",
       " 1004692921,\n",
       " 1004696424,\n",
       " 1004697378,\n",
       " 1004698783,\n",
       " 1004727949,\n",
       " 1004749427,\n",
       " 1004752143,\n",
       " 1004756907,\n",
       " 1004760459,\n",
       " 1004763680,\n",
       " 1004766153,\n",
       " 1004781384,\n",
       " 1004783664,\n",
       " 1004784584,\n",
       " 1004807406,\n",
       " 1004808301,\n",
       " 1004812579,\n",
       " 1004814701,\n",
       " 1004814890,\n",
       " 1004817817,\n",
       " 1004820376,\n",
       " 1004830984,\n",
       " 100483818,\n",
       " 1004846489,\n",
       " 1004851582,\n",
       " 1004856971,\n",
       " 1004859669,\n",
       " 1004866875,\n",
       " 1004871321,\n",
       " 1004889267,\n",
       " 1004911835,\n",
       " 1004921259,\n",
       " 1004922401,\n",
       " 1004930345,\n",
       " 1004941506,\n",
       " 100495978,\n",
       " 1004959988,\n",
       " 1004964278,\n",
       " 1004968643,\n",
       " 1004972393,\n",
       " 1004979544,\n",
       " 100497966,\n",
       " 1004982490,\n",
       " 1004988635,\n",
       " 1004989778,\n",
       " 1004990910,\n",
       " 1004999687,\n",
       " 1005000674,\n",
       " 10050058,\n",
       " 1005008262,\n",
       " 1005009188,\n",
       " 1005014904,\n",
       " 1005018489,\n",
       " 1005020458,\n",
       " 1005023399,\n",
       " 1005027414,\n",
       " 1005030157,\n",
       " 1005036020,\n",
       " 1005037455,\n",
       " 1005040851,\n",
       " 1005044737,\n",
       " 1005051188,\n",
       " 1005053619,\n",
       " ...]"
      ]
     },
     "execution_count": 30,
     "metadata": {},
     "output_type": "execute_result"
    }
   ],
   "source": [
    "seriaM.to_list()"
   ]
  },
  {
   "cell_type": "markdown",
   "metadata": {},
   "source": [
    "10. .add(10) - dodanie 10 do każdego elementu Series"
   ]
  },
  {
   "cell_type": "code",
   "execution_count": 31,
   "metadata": {},
   "outputs": [
    {
     "data": {
      "text/plain": [
       "0         1000002340\n",
       "1         1000003940\n",
       "2         1000004048\n",
       "3         1000007550\n",
       "4         1000011056\n",
       "             ...    \n",
       "378656     999976410\n",
       "378657     999977650\n",
       "378658     999986363\n",
       "378659     999987943\n",
       "378660     999988292\n",
       "Name: ID, Length: 378661, dtype: int64"
      ]
     },
     "execution_count": 31,
     "metadata": {},
     "output_type": "execute_result"
    }
   ],
   "source": [
    "seriaM.add(10)"
   ]
  },
  {
   "cell_type": "markdown",
   "metadata": {},
   "source": [
    "11. .reindex() - przebudowywanie indexu, można też zastąpić tą metodą NULLe parametrem **fill_value**"
   ]
  },
  {
   "cell_type": "code",
   "execution_count": 42,
   "metadata": {},
   "outputs": [
    {
     "data": {
      "text/plain": [
       "0    1000002330\n",
       "1    1000003930\n",
       "2    1000004038\n",
       "3    1000007540\n",
       "4    1000011046\n",
       "Name: ID, dtype: int64"
      ]
     },
     "execution_count": 42,
     "metadata": {},
     "output_type": "execute_result"
    }
   ],
   "source": [
    "seriaM.reindex(index=None).head()"
   ]
  },
  {
   "cell_type": "markdown",
   "metadata": {},
   "source": [
    "12. .str.upper() - na duże litery"
   ]
  },
  {
   "cell_type": "code",
   "execution_count": 45,
   "metadata": {},
   "outputs": [
    {
     "data": {
      "text/plain": [
       "0                  POETRY\n",
       "1          NARRATIVE FILM\n",
       "2          NARRATIVE FILM\n",
       "3                   MUSIC\n",
       "4            FILM & VIDEO\n",
       "               ...       \n",
       "378656        DOCUMENTARY\n",
       "378657     NARRATIVE FILM\n",
       "378658     NARRATIVE FILM\n",
       "378659         TECHNOLOGY\n",
       "378660    PERFORMANCE ART\n",
       "Name: category, Length: 378661, dtype: object"
      ]
     },
     "execution_count": 45,
     "metadata": {},
     "output_type": "execute_result"
    }
   ],
   "source": [
    "seriaText=df1['category']\n",
    "seriaText.str.upper()"
   ]
  },
  {
   "cell_type": "markdown",
   "metadata": {},
   "source": [
    "13. .map() - mapowanie serii lub słownika na przykładzie z wbudowanego helpa"
   ]
  },
  {
   "cell_type": "code",
   "execution_count": 48,
   "metadata": {},
   "outputs": [
    {
     "name": "stdout",
     "output_type": "stream",
     "text": [
      "0       cat\n",
      "1       dog\n",
      "2       NaN\n",
      "3    rabbit\n",
      "dtype: object\n"
     ]
    },
    {
     "data": {
      "text/plain": [
       "0    kitten\n",
       "1     puppy\n",
       "2       NaN\n",
       "3       NaN\n",
       "dtype: object"
      ]
     },
     "execution_count": 48,
     "metadata": {},
     "output_type": "execute_result"
    }
   ],
   "source": [
    "s = pd.Series(['cat', 'dog', np.nan, 'rabbit'])\n",
    "print(s)\n",
    "s.map({'cat': 'kitten', 'dog': 'puppy'})"
   ]
  },
  {
   "cell_type": "markdown",
   "metadata": {},
   "source": [
    "14. .get_dtype_counts() - zlicza ilość kolumn danego typu"
   ]
  },
  {
   "cell_type": "code",
   "execution_count": 54,
   "metadata": {},
   "outputs": [
    {
     "name": "stderr",
     "output_type": "stream",
     "text": [
      "C:\\Users\\admin\\.conda\\envs\\Infoshare\\lib\\site-packages\\ipykernel_launcher.py:1: FutureWarning: `get_dtype_counts` has been deprecated and will be removed in a future version. For DataFrames use `.dtypes.value_counts()\n",
      "  \"\"\"Entry point for launching an IPython kernel.\n"
     ]
    },
    {
     "data": {
      "text/plain": [
       "float64    5\n",
       "int64      2\n",
       "object     8\n",
       "dtype: int64"
      ]
     },
     "execution_count": 54,
     "metadata": {},
     "output_type": "execute_result"
    }
   ],
   "source": [
    "df1.get_dtype_counts()"
   ]
  },
  {
   "cell_type": "markdown",
   "metadata": {},
   "source": [
    "15. .value_counts() - ile jest poszczególnych wartości\n"
   ]
  },
  {
   "cell_type": "code",
   "execution_count": 60,
   "metadata": {},
   "outputs": [
    {
     "data": {
      "text/plain": [
       "Product Design     22314\n",
       "Documentary        16139\n",
       "Music              15727\n",
       "Tabletop Games     14180\n",
       "Shorts             12357\n",
       "                   ...  \n",
       "Residencies           69\n",
       "Letterpress           49\n",
       "Chiptune              35\n",
       "Literary Spaces       27\n",
       "Taxidermy             13\n",
       "Name: category, Length: 159, dtype: int64"
      ]
     },
     "execution_count": 60,
     "metadata": {},
     "output_type": "execute_result"
    }
   ],
   "source": [
    "seriaText.value_counts()"
   ]
  },
  {
   "cell_type": "markdown",
   "metadata": {},
   "source": [
    "16. .sample() - losowanie kilku wartości - taki random"
   ]
  },
  {
   "cell_type": "code",
   "execution_count": 64,
   "metadata": {},
   "outputs": [
    {
     "data": {
      "text/plain": [
       "147497    Electronic Music\n",
       "176324      Product Design\n",
       "160888               Music\n",
       "363378          Indie Rock\n",
       "301868         Accessories\n",
       "Name: category, dtype: object"
      ]
     },
     "execution_count": 64,
     "metadata": {},
     "output_type": "execute_result"
    }
   ],
   "source": [
    "seriaText.sample(5)"
   ]
  },
  {
   "cell_type": "markdown",
   "metadata": {},
   "source": [
    "17. .copy() - kopiowanie rammki danych, używamy aby działać na kopii i nie wywalić głównego zbioru"
   ]
  },
  {
   "cell_type": "code",
   "execution_count": 72,
   "metadata": {},
   "outputs": [
    {
     "data": {
      "text/plain": [
       "0                  Poetry\n",
       "1          Narrative Film\n",
       "2          Narrative Film\n",
       "3                   Music\n",
       "4            Film & Video\n",
       "               ...       \n",
       "378656        Documentary\n",
       "378657     Narrative Film\n",
       "378658     Narrative Film\n",
       "378659         Technology\n",
       "378660    Performance Art\n",
       "Name: category, Length: 378661, dtype: object"
      ]
     },
     "execution_count": 72,
     "metadata": {},
     "output_type": "execute_result"
    }
   ],
   "source": [
    "seriaNowa=seriaText.copy()\n",
    "seriaNowa"
   ]
  },
  {
   "cell_type": "markdown",
   "metadata": {},
   "source": [
    "## 3.2 DataFrame"
   ]
  },
  {
   "cell_type": "markdown",
   "metadata": {},
   "source": [
    "### 3.2.2 Atrybuty"
   ]
  },
  {
   "cell_type": "markdown",
   "metadata": {},
   "source": [
    "1. .size - rozmiar\n",
    "2. .nbytes - ilość bytów\n",
    "3. .is_unique - czy unikalne\n",
    "4. .is_monotonic - monotoniczne lub posortowane\n",
    "5. .index - budowa indexu\n",
    "6. .values - jakie wartości\n",
    "7. .dtype - jakie typ warotści\n",
    "8. .shape - kształt\n",
    "9. .axes - współrzędne\n",
    "10. .dtypes - jakie typ warotści\n",
    "11. .shape - ile jest wierszy i ile jest kolumn\n",
    "12. .columns - zwraca nazwy kolumny"
   ]
  },
  {
   "cell_type": "markdown",
   "metadata": {},
   "source": [
    "### 3.2.3 Metody"
   ]
  },
  {
   "cell_type": "markdown",
   "metadata": {},
   "source": [
    "1. .str.endswith('xxx') - spradza czy kończy się xxx\n",
    "2. .str.strip() - ucina na początku i końću białe znaki w tym spacje\n",
    "3. .str.split(' ') - potnie po spacji\n",
    "4. .str.split(' ',expand=True) - potnie po spacji i podzieli na kolumny\n",
    "5. .str.split(' ',expand=True, n=10) - potnie po spacji i podzieli na kolumny to na 10 kolumn po każdej spacji\n",
    "6. .sum()\n",
    "7. .min()\n",
    "8. .max()\n",
    "9. .count()\n",
    "10. .size\n",
    "11. .product - wymnarza wszystko przez siebie i zwraca wynik\n",
    "12. .keys()\n",
    "13. .get_values\n",
    "14. .tolist() - przekształcenie SERIES do Listy!!!\n",
    "15. .add(10) - dodanie 10 do każdego elementu Series\n",
    "16. .reindex() - szukanie w liście\n",
    "17. .str.upper() - na duże litery\n",
    "18. .map() - mapowanie serii lub słownika\n",
    "19. .len - długość\n",
    "20. .get_dtype_counts() - zlicza ilość kolumn danego typu\n",
    "21. .info() - ile wartości w kolumnach i jakego typu\n",
    "22. .values_counts() - ile jest poszczególnych wartości trzeba określić jednak kolumnę\n",
    "23. .sample() - losowanie kilku wartości\n",
    "24. .nlargest() - największe wartości dla (1,'nazwa kolumny')\n",
    "25. .rename - zmiana nazwy kolumny .rename({'SupplierID':'CustomerID'},axis='columns',inplace=True)\n",
    "26. .set_index - ustawiamy index\n",
    "27. .groupby(by=[kolumny]) - budowa multiindexu\n",
    "28. .get_group((val1,val2)) - wydobywanie grupy z multiindexu\n",
    "29. .agg()\n",
    "30. groups.agg({'Revenue':['sum','min','max'],\n",
    "           'Quantity':'sum',\n",
    "           'Gross margin':'mean'}).head()\n",
    "31. my_aggregation = ['sum','min','max']\n",
    "32. groups.agg({'Revenue':my_aggregation,\n",
    "           'Quantity':my_aggregation,\n",
    "           'Gross margin':'mean'}).head()"
   ]
  },
  {
   "cell_type": "code",
   "execution_count": null,
   "metadata": {},
   "outputs": [],
   "source": []
  }
 ],
 "metadata": {
  "kernelspec": {
   "display_name": "Python 3",
   "language": "python",
   "name": "python3"
  },
  "language_info": {
   "codemirror_mode": {
    "name": "ipython",
    "version": 3
   },
   "file_extension": ".py",
   "mimetype": "text/x-python",
   "name": "python",
   "nbconvert_exporter": "python",
   "pygments_lexer": "ipython3",
   "version": "3.7.5"
  }
 },
 "nbformat": 4,
 "nbformat_minor": 2
}
