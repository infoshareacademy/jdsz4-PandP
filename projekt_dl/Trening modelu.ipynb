{
 "cells": [
  {
   "cell_type": "markdown",
   "metadata": {},
   "source": [
    "# Trening modelu DL"
   ]
  },
  {
   "cell_type": "code",
   "execution_count": 1,
   "metadata": {},
   "outputs": [],
   "source": [
    "import pandas as pd\n",
    "import numpy as np\n",
    "\n",
    "import os.path as path\n",
    "import tensorflow.keras as keras\n",
    "\n"
   ]
  },
  {
   "cell_type": "markdown",
   "metadata": {},
   "source": [
    "## 1.0 wczytanie przygotowanych danych"
   ]
  },
  {
   "cell_type": "code",
   "execution_count": 2,
   "metadata": {},
   "outputs": [],
   "source": [
    "#ścieżka do folderu, gdzie trzymamy zapisane pliki po preporcessingu danych \n",
    "rel_path = 'data'\n",
    "\n",
    "x_train = np.load(path.join(rel_path,'x_train.npy'))\n",
    "x_test = np.load(path.join(rel_path,'x_test.npy'))\n",
    "y_train = np.load(path.join(rel_path,'y_train.npy'))\n",
    "y_test = np.load(path.join(rel_path,'y_test.npy'))"
   ]
  },
  {
   "cell_type": "code",
   "execution_count": 3,
   "metadata": {},
   "outputs": [
    {
     "name": "stdout",
     "output_type": "stream",
     "text": [
      "(27455, 28, 28, 1)\n",
      "(27455, 24)\n",
      "(7172, 28, 28, 1)\n",
      "(7172, 24)\n"
     ]
    }
   ],
   "source": [
    "print(x_train.shape)\n",
    "print(y_train.shape)\n",
    "print(x_test.shape)\n",
    "print(y_test.shape)"
   ]
  },
  {
   "cell_type": "code",
   "execution_count": 4,
   "metadata": {
    "scrolled": true
   },
   "outputs": [
    {
     "name": "stdout",
     "output_type": "stream",
     "text": [
      "(28, 28, 1)\n",
      "24\n"
     ]
    }
   ],
   "source": [
    "input_shape = x_train.shape[1:]\n",
    "out_shape = y_train.shape[1]\n",
    "print(input_shape)\n",
    "print(out_shape)"
   ]
  },
  {
   "cell_type": "code",
   "execution_count": 5,
   "metadata": {},
   "outputs": [],
   "source": [
    "base_model = keras.Sequential()\n",
    "base_model.add(keras.layers.Input(shape=(input_shape)))\n",
    "\n",
    "base_model.add(keras.layers.Conv2D(32, (3, 3)))\n",
    "base_model.add(keras.layers.Activation('relu'))\n",
    "base_model.add(keras.layers.MaxPooling2D(pool_size=(2, 2)))\n",
    "\n",
    "base_model.add(keras.layers.Conv2D(64, (3, 3)))\n",
    "base_model.add(keras.layers.Activation('relu'))\n",
    "base_model.add(keras.layers.MaxPooling2D(pool_size=(2, 2)))\n",
    "\n",
    "# base_model.add(keras.layers.Conv2D(32, (3, 3)))\n",
    "# base_model.add(keras.layers.Activation('relu'))\n",
    "# base_model.add(keras.layers.MaxPooling2D(pool_size=(2, 2))) # the model so far outputs 3D feature maps (height, width, features)\n",
    "\n",
    "base_model.add(keras.layers.Flatten())  # this converts our 3D feature maps to 1D feature vectors\n",
    "base_model.add(keras.layers.Dense(100))\n",
    "base_model.add(keras.layers.Activation('relu'))\n",
    "base_model.add(keras.layers.Dropout(0.5))\n",
    "\n",
    "# base_model.add(keras.layers.Dense(64))\n",
    "# base_model.add(keras.layers.Activation('relu'))\n",
    "# base_model.add(keras.layers.Dropout(0.4))\n",
    "\n",
    "base_model.add(keras.layers.Dense(out_shape))\n",
    "base_model.add(keras.layers.Activation('sigmoid'))\n",
    "\n",
    "\n",
    "base_model.compile(loss='categorical_crossentropy',\n",
    "                   optimizer=keras.optimizers.Adam(learning_rate=0.001),\n",
    "                   metrics=['accuracy'])"
   ]
  },
  {
   "cell_type": "code",
   "execution_count": 6,
   "metadata": {},
   "outputs": [],
   "source": [
    "_batch_size = 128\n",
    "_epochs = 60\n",
    "_validation_split = 0.2"
   ]
  },
  {
   "cell_type": "code",
   "execution_count": 7,
   "metadata": {},
   "outputs": [
    {
     "name": "stdout",
     "output_type": "stream",
     "text": [
      "Train on 21964 samples, validate on 5491 samples\n",
      "Epoch 1/60\n",
      "21964/21964 [==============================] - 6s 261us/sample - loss: 2.4822 - accuracy: 0.2552 - val_loss: 1.2071 - val_accuracy: 0.7115\n",
      "Epoch 2/60\n",
      "21964/21964 [==============================] - 2s 111us/sample - loss: 1.2131 - accuracy: 0.5955 - val_loss: 0.4620 - val_accuracy: 0.8787\n",
      "Epoch 3/60\n",
      "21964/21964 [==============================] - 2s 111us/sample - loss: 0.7623 - accuracy: 0.7361 - val_loss: 0.2451 - val_accuracy: 0.9508\n",
      "Epoch 4/60\n",
      "21964/21964 [==============================] - 2s 111us/sample - loss: 0.5199 - accuracy: 0.8188 - val_loss: 0.1429 - val_accuracy: 0.9740\n",
      "Epoch 5/60\n",
      "21964/21964 [==============================] - 2s 112us/sample - loss: 0.3790 - accuracy: 0.8676 - val_loss: 0.0833 - val_accuracy: 0.9834\n",
      "Epoch 6/60\n",
      "21964/21964 [==============================] - 2s 112us/sample - loss: 0.2942 - accuracy: 0.8995 - val_loss: 0.0511 - val_accuracy: 0.9933\n",
      "Epoch 7/60\n",
      "21964/21964 [==============================] - 2s 113us/sample - loss: 0.2385 - accuracy: 0.9174 - val_loss: 0.0388 - val_accuracy: 0.9954\n",
      "Epoch 8/60\n",
      "21964/21964 [==============================] - 2s 111us/sample - loss: 0.1934 - accuracy: 0.9348 - val_loss: 0.0181 - val_accuracy: 0.9982\n",
      "Epoch 9/60\n",
      "21964/21964 [==============================] - 2s 111us/sample - loss: 0.1665 - accuracy: 0.9426 - val_loss: 0.0150 - val_accuracy: 0.9984\n",
      "Epoch 10/60\n",
      "21964/21964 [==============================] - 2s 111us/sample - loss: 0.1511 - accuracy: 0.9483 - val_loss: 0.0094 - val_accuracy: 0.9996\n",
      "Epoch 11/60\n",
      "21964/21964 [==============================] - 2s 112us/sample - loss: 0.1326 - accuracy: 0.9549 - val_loss: 0.0063 - val_accuracy: 1.0000\n",
      "Epoch 12/60\n",
      "21964/21964 [==============================] - 2s 111us/sample - loss: 0.1192 - accuracy: 0.9585 - val_loss: 0.0049 - val_accuracy: 1.0000\n",
      "Epoch 13/60\n",
      "21964/21964 [==============================] - 2s 112us/sample - loss: 0.1013 - accuracy: 0.9660 - val_loss: 0.0030 - val_accuracy: 1.0000\n",
      "Epoch 14/60\n",
      "21964/21964 [==============================] - 2s 112us/sample - loss: 0.1060 - accuracy: 0.9631 - val_loss: 0.0036 - val_accuracy: 0.9998\n",
      "Epoch 15/60\n",
      "21964/21964 [==============================] - 2s 113us/sample - loss: 0.0904 - accuracy: 0.9676 - val_loss: 0.0035 - val_accuracy: 0.9996\n",
      "Epoch 16/60\n",
      "21964/21964 [==============================] - 2s 111us/sample - loss: 0.0847 - accuracy: 0.9699 - val_loss: 0.0026 - val_accuracy: 1.0000\n",
      "Epoch 17/60\n",
      "21964/21964 [==============================] - 3s 114us/sample - loss: 0.0801 - accuracy: 0.9726 - val_loss: 0.0015 - val_accuracy: 0.9998\n",
      "Epoch 18/60\n",
      "21964/21964 [==============================] - 3s 115us/sample - loss: 0.0744 - accuracy: 0.9726 - val_loss: 8.0084e-04 - val_accuracy: 1.0000\n",
      "Epoch 19/60\n",
      "21964/21964 [==============================] - 2s 112us/sample - loss: 0.0688 - accuracy: 0.9758 - val_loss: 4.6920e-04 - val_accuracy: 1.0000\n",
      "Epoch 20/60\n",
      "21964/21964 [==============================] - 2s 112us/sample - loss: 0.0669 - accuracy: 0.9763 - val_loss: 7.5341e-04 - val_accuracy: 1.0000\n",
      "Epoch 21/60\n",
      "21964/21964 [==============================] - 2s 112us/sample - loss: 0.0622 - accuracy: 0.9787 - val_loss: 4.1732e-04 - val_accuracy: 1.0000\n",
      "Epoch 22/60\n",
      "21964/21964 [==============================] - 2s 112us/sample - loss: 0.0605 - accuracy: 0.9786 - val_loss: 3.6271e-04 - val_accuracy: 1.0000\n",
      "Epoch 23/60\n",
      "21964/21964 [==============================] - 2s 112us/sample - loss: 0.0607 - accuracy: 0.9791 - val_loss: 4.2428e-04 - val_accuracy: 1.0000\n",
      "Epoch 24/60\n",
      "21964/21964 [==============================] - 2s 113us/sample - loss: 0.0596 - accuracy: 0.9772 - val_loss: 4.1925e-04 - val_accuracy: 1.0000\n",
      "Epoch 25/60\n",
      "21964/21964 [==============================] - 2s 112us/sample - loss: 0.0602 - accuracy: 0.9779 - val_loss: 3.6763e-04 - val_accuracy: 1.0000\n",
      "Epoch 26/60\n",
      "21964/21964 [==============================] - 2s 112us/sample - loss: 0.0568 - accuracy: 0.9788 - val_loss: 4.8782e-04 - val_accuracy: 1.0000\n",
      "Epoch 27/60\n",
      "21964/21964 [==============================] - 2s 112us/sample - loss: 0.0555 - accuracy: 0.9799 - val_loss: 1.7682e-04 - val_accuracy: 1.0000\n",
      "Epoch 28/60\n",
      "21964/21964 [==============================] - 2s 112us/sample - loss: 0.0507 - accuracy: 0.9807 - val_loss: 1.6943e-04 - val_accuracy: 1.0000\n",
      "Epoch 29/60\n",
      "21964/21964 [==============================] - 2s 112us/sample - loss: 0.0507 - accuracy: 0.9815 - val_loss: 4.2596e-04 - val_accuracy: 1.0000\n",
      "Epoch 30/60\n",
      "21964/21964 [==============================] - 2s 112us/sample - loss: 0.0442 - accuracy: 0.9834 - val_loss: 2.0539e-04 - val_accuracy: 1.0000\n",
      "Epoch 31/60\n",
      "21964/21964 [==============================] - 2s 112us/sample - loss: 0.0479 - accuracy: 0.9825 - val_loss: 2.0219e-04 - val_accuracy: 1.0000\n",
      "Epoch 32/60\n",
      "21964/21964 [==============================] - 2s 112us/sample - loss: 0.0456 - accuracy: 0.9832 - val_loss: 8.6100e-05 - val_accuracy: 1.0000\n",
      "Epoch 33/60\n",
      "21964/21964 [==============================] - 2s 112us/sample - loss: 0.0437 - accuracy: 0.9833 - val_loss: 1.4108e-04 - val_accuracy: 1.0000\n",
      "Epoch 34/60\n",
      "21964/21964 [==============================] - 2s 113us/sample - loss: 0.0459 - accuracy: 0.9821 - val_loss: 7.1552e-05 - val_accuracy: 1.0000\n",
      "Epoch 35/60\n",
      "21964/21964 [==============================] - 3s 114us/sample - loss: 0.0443 - accuracy: 0.9836 - val_loss: 9.5080e-05 - val_accuracy: 1.0000\n",
      "Epoch 36/60\n",
      "21964/21964 [==============================] - 2s 113us/sample - loss: 0.0376 - accuracy: 0.9868 - val_loss: 3.7682e-05 - val_accuracy: 1.0000\n",
      "Epoch 37/60\n",
      "21964/21964 [==============================] - 2s 113us/sample - loss: 0.0382 - accuracy: 0.9857 - val_loss: 3.1814e-05 - val_accuracy: 1.0000\n",
      "Epoch 38/60\n",
      "21964/21964 [==============================] - 2s 112us/sample - loss: 0.0388 - accuracy: 0.9852 - val_loss: 7.0894e-05 - val_accuracy: 1.0000\n",
      "Epoch 39/60\n",
      "21964/21964 [==============================] - 2s 113us/sample - loss: 0.0349 - accuracy: 0.9875 - val_loss: 4.5036e-05 - val_accuracy: 1.0000\n",
      "Epoch 40/60\n",
      "21964/21964 [==============================] - 2s 113us/sample - loss: 0.0405 - accuracy: 0.9850 - val_loss: 5.3001e-05 - val_accuracy: 1.0000\n",
      "Epoch 41/60\n",
      "21964/21964 [==============================] - 2s 113us/sample - loss: 0.0328 - accuracy: 0.9882 - val_loss: 2.0335e-04 - val_accuracy: 0.9998\n",
      "Epoch 42/60\n",
      "21964/21964 [==============================] - 2s 113us/sample - loss: 0.0316 - accuracy: 0.9884 - val_loss: 1.8049e-04 - val_accuracy: 1.0000\n",
      "Epoch 43/60\n",
      "21964/21964 [==============================] - 2s 113us/sample - loss: 0.0320 - accuracy: 0.9881 - val_loss: 3.7461e-05 - val_accuracy: 1.0000\n",
      "Epoch 44/60\n",
      "21964/21964 [==============================] - 2s 114us/sample - loss: 0.0331 - accuracy: 0.9873 - val_loss: 1.4969e-04 - val_accuracy: 1.0000\n",
      "Epoch 45/60\n",
      "21964/21964 [==============================] - 2s 113us/sample - loss: 0.0294 - accuracy: 0.9893 - val_loss: 2.4221e-05 - val_accuracy: 1.0000\n",
      "Epoch 46/60\n",
      "21964/21964 [==============================] - 3s 114us/sample - loss: 0.0308 - accuracy: 0.9884 - val_loss: 2.9335e-05 - val_accuracy: 1.0000\n",
      "Epoch 47/60\n",
      "21964/21964 [==============================] - 3s 114us/sample - loss: 0.0295 - accuracy: 0.9885 - val_loss: 8.5575e-05 - val_accuracy: 1.0000\n",
      "Epoch 48/60\n",
      "21964/21964 [==============================] - 2s 114us/sample - loss: 0.0307 - accuracy: 0.9881 - val_loss: 5.8941e-05 - val_accuracy: 1.0000\n",
      "Epoch 49/60\n",
      "21964/21964 [==============================] - 2s 113us/sample - loss: 0.0310 - accuracy: 0.9893 - val_loss: 2.2752e-05 - val_accuracy: 1.0000\n",
      "Epoch 50/60\n",
      "21964/21964 [==============================] - 2s 114us/sample - loss: 0.0279 - accuracy: 0.9899 - val_loss: 3.9382e-05 - val_accuracy: 1.0000\n",
      "Epoch 51/60\n",
      "21964/21964 [==============================] - 3s 114us/sample - loss: 0.0270 - accuracy: 0.9898 - val_loss: 4.5192e-05 - val_accuracy: 1.0000\n",
      "Epoch 52/60\n",
      "21964/21964 [==============================] - 3s 114us/sample - loss: 0.0309 - accuracy: 0.9878 - val_loss: 9.9893e-05 - val_accuracy: 1.0000\n",
      "Epoch 53/60\n",
      "21964/21964 [==============================] - 2s 113us/sample - loss: 0.0277 - accuracy: 0.9894 - val_loss: 2.7379e-05 - val_accuracy: 1.0000\n",
      "Epoch 54/60\n"
     ]
    },
    {
     "name": "stdout",
     "output_type": "stream",
     "text": [
      "21964/21964 [==============================] - 2s 113us/sample - loss: 0.0255 - accuracy: 0.9904 - val_loss: 9.6793e-05 - val_accuracy: 1.0000\n",
      "Epoch 55/60\n",
      "21964/21964 [==============================] - 2s 113us/sample - loss: 0.0283 - accuracy: 0.9897 - val_loss: 9.5217e-06 - val_accuracy: 1.0000\n",
      "Epoch 56/60\n",
      "21964/21964 [==============================] - 2s 113us/sample - loss: 0.0245 - accuracy: 0.9909 - val_loss: 1.6329e-05 - val_accuracy: 1.0000\n",
      "Epoch 57/60\n",
      "21964/21964 [==============================] - 2s 113us/sample - loss: 0.0245 - accuracy: 0.9913 - val_loss: 3.7485e-04 - val_accuracy: 1.0000\n",
      "Epoch 58/60\n",
      "21964/21964 [==============================] - 2s 113us/sample - loss: 0.0279 - accuracy: 0.9893 - val_loss: 5.6322e-05 - val_accuracy: 1.0000\n",
      "Epoch 59/60\n",
      "21964/21964 [==============================] - 3s 114us/sample - loss: 0.0252 - accuracy: 0.9900 - val_loss: 1.5483e-05 - val_accuracy: 1.0000\n",
      "Epoch 60/60\n",
      "21964/21964 [==============================] - 2s 113us/sample - loss: 0.0230 - accuracy: 0.9914 - val_loss: 1.4102e-05 - val_accuracy: 1.0000\n"
     ]
    },
    {
     "data": {
      "text/plain": [
       "<tensorflow.python.keras.callbacks.History at 0x19b1854a788>"
      ]
     },
     "execution_count": 7,
     "metadata": {},
     "output_type": "execute_result"
    }
   ],
   "source": [
    "base_model.fit(x_train, y_train, epochs=_epochs, batch_size=_batch_size, validation_split=_validation_split)"
   ]
  },
  {
   "cell_type": "code",
   "execution_count": 8,
   "metadata": {},
   "outputs": [
    {
     "name": "stdout",
     "output_type": "stream",
     "text": [
      "\n",
      "[!] Evaluation results:\n",
      "loss: 0.349, accuracy: 0.941\n"
     ]
    }
   ],
   "source": [
    "results = base_model.evaluate(x_test, y_test, batch_size=len(x_test), verbose=0)\n",
    "print(\"\\n[!] Evaluation results:\")\n",
    "print(\"{0}: {2:.3f}, {1}: {3:.3f}\".format(*base_model.metrics_names, *results))"
   ]
  },
  {
   "cell_type": "code",
   "execution_count": null,
   "metadata": {},
   "outputs": [],
   "source": []
  }
 ],
 "metadata": {
  "kernelspec": {
   "display_name": "Python 3",
   "language": "python",
   "name": "python3"
  },
  "language_info": {
   "codemirror_mode": {
    "name": "ipython",
    "version": 3
   },
   "file_extension": ".py",
   "mimetype": "text/x-python",
   "name": "python",
   "nbconvert_exporter": "python",
   "pygments_lexer": "ipython3",
   "version": "3.7.7"
  }
 },
 "nbformat": 4,
 "nbformat_minor": 4
}
