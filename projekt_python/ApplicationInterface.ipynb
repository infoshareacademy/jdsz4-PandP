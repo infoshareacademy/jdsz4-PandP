{
 "cells": [
  {
   "cell_type": "code",
   "execution_count": 1,
   "metadata": {},
   "outputs": [],
   "source": [
    "#imports and definitions\n",
    "import os\n",
    "import glob\n",
    "import sys\n",
    "import pandas as pd\n",
    "import ipywidgets as widgets\n",
    "\n",
    "sys.path.insert(0, os.path.abspath('./src'))\n",
    "\n",
    "import interface_def as intdef\n",
    "import success_rate_def as sr\n",
    "from DataFrameLimiter import limiter\n",
    "\n",
    "file_path = (glob.glob(os.path.join(os.path.abspath(''), '**', '*kickstarter_filtered*.tsv'), recursive=True))\n",
    "\n",
    "DF = pd.read_csv(file_path[0], header = 0, sep='\\t')\n"
   ]
  },
  {
   "cell_type": "code",
   "execution_count": 2,
   "metadata": {},
   "outputs": [
    {
     "name": "stdout",
     "output_type": "stream",
     "text": [
      "Set your campaigns parameters\n"
     ]
    },
    {
     "data": {
      "application/vnd.jupyter.widget-view+json": {
       "model_id": "66144aa948a0400d86e5ed1a381c71c8",
       "version_major": 2,
       "version_minor": 0
      },
      "text/plain": [
       "VBox(children=(Text(value='Kickstarter Campaign', description='Name', placeholder='Type something'), Dropdown(…"
      ]
     },
     "metadata": {},
     "output_type": "display_data"
    }
   ],
   "source": [
    "# frontend\n",
    "\n",
    "print('Set your campaigns parameters')\n",
    "\n",
    "def f(a,b,c,d,e,f,g):\n",
    "    result = limiter(DF,a,b,c,d,e,f)\n",
    "    final_output = sr.success_ratio(result)\n",
    "    print('\\n\\nGood luck with your \\\"',g,'\\\" campaign!!!')\n",
    "    \n",
    "out = widgets.interactive_output(f, {'a': intdef.main_category,'b': intdef.sub_category,'c': intdef.goal,'d': intdef.duration, 'e': intdef.country, 'f': intdef.currency, 'g': intdef.campaign_name})\n",
    "\n",
    "widgets.VBox([intdef.campaign_name,intdef.main_category,intdef.sub_category,intdef.goal,intdef.duration,intdef.country,intdef.currency,out] )\n"
   ]
  },
  {
   "cell_type": "markdown",
   "metadata": {},
   "source": []
  }
 ],
 "metadata": {
  "kernelspec": {
   "display_name": "Python 3",
   "language": "python",
   "name": "python3"
  },
  "language_info": {
   "codemirror_mode": {
    "name": "ipython",
    "version": 3
   },
   "file_extension": ".py",
   "mimetype": "text/x-python",
   "name": "python",
   "nbconvert_exporter": "python",
   "pygments_lexer": "ipython3",
   "version": "3.7.4"
  }
 },
 "nbformat": 4,
 "nbformat_minor": 2
}
