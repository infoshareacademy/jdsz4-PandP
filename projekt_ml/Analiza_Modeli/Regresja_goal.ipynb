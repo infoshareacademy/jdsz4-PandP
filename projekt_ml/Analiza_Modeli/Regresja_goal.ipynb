{
 "cells": [
  {
   "cell_type": "code",
   "execution_count": 1,
   "metadata": {},
   "outputs": [],
   "source": [
    "import pandas as pd\n",
    "import numpy as np\n",
    "from sklearn.tree import DecisionTreeRegressor\n",
    "from sklearn.ensemble import RandomForestRegressor\n",
    "from sklearn.neighbors import KNeighborsRegressor, RadiusNeighborsRegressor\n",
    "from sklearn import svm\n",
    "from sklearn.naive_bayes import GaussianNB\n",
    "from sklearn.metrics import accuracy_score\n",
    "from sklearn.preprocessing import MinMaxScaler\n",
    "from sklearn.model_selection import GridSearchCV\n",
    "from data import Data\n",
    "from sklearn.preprocessing import LabelEncoder"
   ]
  },
  {
   "cell_type": "code",
   "execution_count": 5,
   "metadata": {},
   "outputs": [],
   "source": [
    "df = Data()\n",
    "encoders=df.encoders\n",
    "#df[df['state']==0 & df['state']==1].replace(0)\n",
    "\n",
    "x_train, x, y_train, y = df.dev_data('goal', test_percent=0.01)"
   ]
  },
  {
   "cell_type": "code",
   "execution_count": null,
   "metadata": {},
   "outputs": [],
   "source": [
    "x"
   ]
  },
  {
   "cell_type": "code",
   "execution_count": 14,
   "metadata": {},
   "outputs": [
    {
     "data": {
      "text/plain": [
       "array(['successful'], dtype=object)"
      ]
     },
     "execution_count": 14,
     "metadata": {},
     "output_type": "execute_result"
    }
   ],
   "source": [
    "y"
   ]
  },
  {
   "cell_type": "code",
   "execution_count": null,
   "metadata": {},
   "outputs": [],
   "source": [
    "def best_params(model, params, cv, x_train, y_train):\n",
    "    grid = GridSearchCV(model, params, cv=cv)\n",
    "    grid.fit(x_train, y_train)\n",
    "    best_options = grid.best_params_\n",
    "    return best_options\n",
    "\n",
    "def prediction_reg(model, x_train, y_train, x_test, y_test, cv):\n",
    "    model.fit(x_train, y_train)\n",
    "    score_val = np.mean(cross_val_score(model, x_train, y_train, cv=cv))\n",
    "    y_pred = model.predict(x_test)\n",
    "    score_acc = None\n",
    "    score = model.score(x_train, y_train)\n",
    "    return score_val, score_acc, score\n",
    "\n",
    "def normalize_data(x_train, x_test):\n",
    "    scaler = MinMaxScaler()\n",
    "    scaler.fit(x_train)\n",
    "    x_train_norm = scaler.transform(x_train)\n",
    "    x_test_norm = scaler.transform(x_test)\n",
    "    return x_train_norm, x_test_norm\n",
    "\n",
    "\n",
    "\n",
    "\n",
    "# DecisionTreeRegressor\n",
    "dtr = DecisionTreeRegressor()\n",
    "dtr_params = {\"criterion\": [\"mse\", \"friedman_mse\", \"mae\"],\n",
    "              \"splitter\": [\"best\", \"random\"]}\n",
    "dtr_best_params = best_params(dtr, dtr_params, 3, x_train, y_train)\n",
    "dtr_best = DecisionTreeRegressor(**dtr_best_params)\n",
    "dtr_result = prediction_reg(dtr_best, x_train, y_train, x_test, y_test, cv=3)\n",
    "\n",
    "\n",
    "# KNeighborsRegressor\n",
    "knr = KNeighborsRegressor()\n",
    "knr_params = {'weights': [\"uniform\", \"distance\"],\n",
    "              'p': [1, 2],\n",
    "              'n_neighbors': np.arange(1, 40)}\n",
    "knc_best_params = best_params(knr, knr_params, 3, x_train_norm, y_train)\n",
    "knr_best = KNeighborsClassifier(**knc_best_params)\n",
    "knr_result = prediction(knr_best, x_train_norm, y_train, x_test_norm, y_test, cv=3)\n",
    "\n",
    "# RadiusNeighborsRegressor\n",
    "rnr = RadiusNeighborsRegressor()\n",
    "rnr_params = {}\n",
    "rnr_best_params = best_params(rnr, rnr_params, 3, x_train_norm, y_train)\n",
    "rnr_best = RadiusNeighborsRegressor(**rnr_best_params)\n",
    "rnr_result = prediction_reg(rnr_best, x_train_norm, y_train, x_test_norm, y_test, cv=3)\n",
    "\n",
    "\n",
    "\n",
    "# RandomForestRegressor\n",
    "rfr = RandomForestRegressor()\n",
    "rfr_params = {\"n_estimators\": np.arange(10, 15, 1),\n",
    "              \"min_samples_split\": np.arange(2, 5, 1),\n",
    "              \"min_samples_leaf\": np.arange(1, 5, 1),\n",
    "              \"criterion\": [\"mse\", \"mae\"]}\n",
    "rfr_best_params = best_params(rfr, rfr_params, 3, x_train, y_train)\n",
    "rfr_best = RandomForestRegressor(**rfr_best_params)\n",
    "rfr_result = prediction_reg(rfr_best, x_train, y_train, x_test, y_test, cv=3)\n",
    "\n",
    "\n",
    "\n",
    "# SVM\n",
    "svm_model = svm.SVC()\n",
    "svm_params = {'kernel': ['linear'],\n",
    "              'gamma': ['scale','auto']}\n",
    "svm_best_params = best_params(svm_model, svm_params, 2, x_train, y_train)\n",
    "svm_best = svm.SVC(**svm_best_params)\n",
    "svm_result = prediction(svm_best, x_train, y_train, x_test, y_test, cv=3)\n",
    "\n",
    "\n",
    "\n",
    "# Bayes\n",
    "bayes_model = GaussianNB()\n",
    "bayes_params = {'priors': None\n",
    "                #'var_smoothing': [1e-9]\n",
    "                }\n",
    "bayes_best_params = best_params(bayes_model, bayes_params, 2, x_train, y_train)\n",
    "bayes_best = svm.SVC(**bayes_best_params)\n",
    "bayes_result = prediction(bayes_best, x_train, y_train, x_test, y_test, cv=3)\n",
    "\n",
    "\n",
    "\n",
    "\n",
    "all_results = [\n",
    "               ['DecisionTreeRegressor', *dtr_result],\n",
    "               ['KNeighborsRegressor',*knr_result],\n",
    "               ['RadiusNeighborsRegressor',*rnr_result],\n",
    "               ['RandomForestRegressor', *rfr_result],\n",
    "               ['SVM', *svm_result],\n",
    "               ['Byess', *bayes_result]\n",
    "               ]\n",
    "\n",
    "\n",
    "result_df = pd.DataFrame(all_results, columns=[\"model\", \"mean_val_score\", \"accuracy_score\", \"score\"])\n",
    "print(result_df)"
   ]
  },
  {
   "cell_type": "code",
   "execution_count": null,
   "metadata": {},
   "outputs": [],
   "source": []
  }
 ],
 "metadata": {
  "kernelspec": {
   "display_name": "Python 3",
   "language": "python",
   "name": "python3"
  },
  "language_info": {
   "codemirror_mode": {
    "name": "ipython",
    "version": 3
   },
   "file_extension": ".py",
   "mimetype": "text/x-python",
   "name": "python",
   "nbconvert_exporter": "python",
   "pygments_lexer": "ipython3",
   "version": "3.7.6"
  }
 },
 "nbformat": 4,
 "nbformat_minor": 2
}
