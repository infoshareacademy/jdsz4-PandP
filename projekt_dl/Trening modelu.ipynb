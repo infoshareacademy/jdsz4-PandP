{
 "cells": [
  {
   "cell_type": "markdown",
   "metadata": {},
   "source": [
    "# Trening modelu DL"
   ]
  },
  {
   "cell_type": "code",
   "execution_count": 19,
   "metadata": {},
   "outputs": [],
   "source": [
    "import pandas as pd\n",
    "import numpy as np\n",
    "\n",
    "import os.path as path\n",
    "import tensorflow.keras as keras\n",
    "import matplotlib.pyplot as plt\n",
    "\n",
    "\n"
   ]
  },
  {
   "cell_type": "markdown",
   "metadata": {},
   "source": [
    "## 1.0 wczytanie przygotowanych danych"
   ]
  },
  {
   "cell_type": "code",
   "execution_count": 20,
   "metadata": {},
   "outputs": [],
   "source": [
    "#ścieżka do folderu, gdzie trzymamy zapisane pliki po preporcessingu danych \n",
    "rel_path = 'data'\n",
    "\n",
    "x_train = np.load(path.join(rel_path,'x_train.npy'))\n",
    "x_test = np.load(path.join(rel_path,'x_test.npy'))\n",
    "y_train = np.load(path.join(rel_path,'y_train.npy'))\n",
    "y_test = np.load(path.join(rel_path,'y_test.npy'))"
   ]
  },
  {
   "cell_type": "code",
   "execution_count": 21,
   "metadata": {},
   "outputs": [
    {
     "name": "stdout",
     "output_type": "stream",
     "text": [
      "(27455, 28, 28, 1)\n",
      "(27455, 24)\n",
      "(7172, 28, 28, 1)\n",
      "(7172, 24)\n"
     ]
    }
   ],
   "source": [
    "print(x_train.shape)\n",
    "print(y_train.shape)\n",
    "print(x_test.shape)\n",
    "print(y_test.shape)"
   ]
  },
  {
   "cell_type": "code",
   "execution_count": 22,
   "metadata": {
    "scrolled": true
   },
   "outputs": [
    {
     "name": "stdout",
     "output_type": "stream",
     "text": [
      "(28, 28, 1)\n",
      "24\n"
     ]
    }
   ],
   "source": [
    "input_shape = x_train.shape[1:]\n",
    "out_shape = y_train.shape[1]\n",
    "print(input_shape)\n",
    "print(out_shape)"
   ]
  },
  {
   "cell_type": "code",
   "execution_count": 32,
   "metadata": {},
   "outputs": [
    {
     "name": "stdout",
     "output_type": "stream",
     "text": [
      "Model: \"sequential_3\"\n",
      "_________________________________________________________________\n",
      "Layer (type)                 Output Shape              Param #   \n",
      "=================================================================\n",
      "conv2d_9 (Conv2D)            (None, 28, 28, 16)        160       \n",
      "_________________________________________________________________\n",
      "max_pooling2d_9 (MaxPooling2 (None, 14, 14, 16)        0         \n",
      "_________________________________________________________________\n",
      "conv2d_10 (Conv2D)           (None, 14, 14, 32)        4640      \n",
      "_________________________________________________________________\n",
      "max_pooling2d_10 (MaxPooling (None, 7, 7, 32)          0         \n",
      "_________________________________________________________________\n",
      "conv2d_11 (Conv2D)           (None, 7, 7, 64)          18496     \n",
      "_________________________________________________________________\n",
      "max_pooling2d_11 (MaxPooling (None, 3, 3, 64)          0         \n",
      "_________________________________________________________________\n",
      "flatten_3 (Flatten)          (None, 576)               0         \n",
      "_________________________________________________________________\n",
      "dense_9 (Dense)              (None, 128)               73856     \n",
      "_________________________________________________________________\n",
      "dropout_6 (Dropout)          (None, 128)               0         \n",
      "_________________________________________________________________\n",
      "dense_10 (Dense)             (None, 64)                8256      \n",
      "_________________________________________________________________\n",
      "dropout_7 (Dropout)          (None, 64)                0         \n",
      "_________________________________________________________________\n",
      "dense_11 (Dense)             (None, 24)                1560      \n",
      "=================================================================\n",
      "Total params: 106,968\n",
      "Trainable params: 106,968\n",
      "Non-trainable params: 0\n",
      "_________________________________________________________________\n"
     ]
    }
   ],
   "source": [
    "base_model = keras.Sequential()\n",
    "base_model.add(keras.layers.Input(shape=(input_shape)))\n",
    "\n",
    "base_model.add(keras.layers.Conv2D(16, (3,3), activation='relu', padding='same'))\n",
    "base_model.add(keras.layers.MaxPooling2D(pool_size=(2,2)))\n",
    "\n",
    "base_model.add(keras.layers.Conv2D(32, (3,3), activation='relu', padding='same'))\n",
    "base_model.add(keras.layers.MaxPooling2D(pool_size=(2,2)))\n",
    "\n",
    "base_model.add(keras.layers.Conv2D(64, (3,3), activation='relu', padding='same'))\n",
    "base_model.add(keras.layers.MaxPooling2D(pool_size=(2,2)))\n",
    "\n",
    "## maxpool to nie to samo co użycie STRIDES w konwolucji - pamiętać!!\n",
    "\n",
    "base_model.add(keras.layers.Flatten())  # this converts our 3D feature maps to 1D feature vectors\n",
    "\n",
    "\n",
    "base_model.add(keras.layers.Dense(units=128,activation='relu'))\n",
    "base_model.add(keras.layers.Dropout(0.55))\n",
    "\n",
    "base_model.add(keras.layers.Dense(units=64,activation='relu'))\n",
    "base_model.add(keras.layers.Dropout(0.55))\n",
    "\n",
    "# base_model.add(keras.layers.Dense(units=32,activation='relu'))\n",
    "# base_model.add(keras.layers.Dropout(0.5))\n",
    "\n",
    "\n",
    "\n",
    "base_model.add(keras.layers.Dense(out_shape, activation='softmax'))\n",
    "\n",
    "\n",
    "\n",
    "base_model.summary()"
   ]
  },
  {
   "cell_type": "code",
   "execution_count": 33,
   "metadata": {},
   "outputs": [],
   "source": [
    "base_model.compile(loss='categorical_crossentropy',\n",
    "                   optimizer=keras.optimizers.Adam(learning_rate=0.001),\n",
    "                   metrics=['accuracy'])"
   ]
  },
  {
   "cell_type": "code",
   "execution_count": 35,
   "metadata": {},
   "outputs": [],
   "source": [
    "_batch_size = 128\n",
    "_epochs = 80\n",
    "_validation_split = 0.0\n",
    "\n",
    "if _validation_split == 0.0:\n",
    "    _val_data = (x_test,y_test)\n",
    "else:\n",
    "    _val_data = None"
   ]
  },
  {
   "cell_type": "code",
   "execution_count": 36,
   "metadata": {
    "scrolled": false
   },
   "outputs": [
    {
     "name": "stdout",
     "output_type": "stream",
     "text": [
      "Train on 27455 samples, validate on 7172 samples\n",
      "Epoch 1/80\n",
      "27455/27455 [==============================] - 4s 138us/sample - loss: 2.8989 - accuracy: 0.1188 - val_loss: 2.0698 - val_accuracy: 0.3892\n",
      "Epoch 2/80\n",
      "27455/27455 [==============================] - 3s 105us/sample - loss: 1.7959 - accuracy: 0.3911 - val_loss: 1.0103 - val_accuracy: 0.6941\n",
      "Epoch 3/80\n",
      "27455/27455 [==============================] - 3s 103us/sample - loss: 1.1407 - accuracy: 0.5993 - val_loss: 0.6109 - val_accuracy: 0.8123\n",
      "Epoch 4/80\n",
      "27455/27455 [==============================] - 3s 109us/sample - loss: 0.8288 - accuracy: 0.7061 - val_loss: 0.4484 - val_accuracy: 0.8721\n",
      "Epoch 5/80\n",
      "27455/27455 [==============================] - 3s 106us/sample - loss: 0.6429 - accuracy: 0.7717 - val_loss: 0.3529 - val_accuracy: 0.9031\n",
      "Epoch 6/80\n",
      "27455/27455 [==============================] - 3s 108us/sample - loss: 0.5446 - accuracy: 0.8049 - val_loss: 0.3413 - val_accuracy: 0.9024\n",
      "Epoch 7/80\n",
      "27455/27455 [==============================] - 3s 106us/sample - loss: 0.4489 - accuracy: 0.8410 - val_loss: 0.2620 - val_accuracy: 0.9317\n",
      "Epoch 8/80\n",
      "27455/27455 [==============================] - 3s 107us/sample - loss: 0.3923 - accuracy: 0.8608 - val_loss: 0.2514 - val_accuracy: 0.9308\n",
      "Epoch 9/80\n",
      "27455/27455 [==============================] - 3s 107us/sample - loss: 0.3403 - accuracy: 0.8819 - val_loss: 0.2585 - val_accuracy: 0.9375\n",
      "Epoch 10/80\n",
      "27455/27455 [==============================] - 3s 107us/sample - loss: 0.2961 - accuracy: 0.8981 - val_loss: 0.2369 - val_accuracy: 0.9265\n",
      "Epoch 11/80\n",
      "27455/27455 [==============================] - 3s 106us/sample - loss: 0.2705 - accuracy: 0.9062 - val_loss: 0.2350 - val_accuracy: 0.9453\n",
      "Epoch 12/80\n",
      "27455/27455 [==============================] - 3s 110us/sample - loss: 0.2526 - accuracy: 0.9125 - val_loss: 0.2169 - val_accuracy: 0.9479\n",
      "Epoch 13/80\n",
      "27455/27455 [==============================] - 3s 110us/sample - loss: 0.2378 - accuracy: 0.9175 - val_loss: 0.2239 - val_accuracy: 0.9536\n",
      "Epoch 14/80\n",
      "27455/27455 [==============================] - 3s 113us/sample - loss: 0.2200 - accuracy: 0.9241 - val_loss: 0.2373 - val_accuracy: 0.9540\n",
      "Epoch 15/80\n",
      "27455/27455 [==============================] - 3s 113us/sample - loss: 0.2045 - accuracy: 0.9301 - val_loss: 0.2230 - val_accuracy: 0.9541\n",
      "Epoch 16/80\n",
      "27455/27455 [==============================] - 3s 111us/sample - loss: 0.1947 - accuracy: 0.9329 - val_loss: 0.2288 - val_accuracy: 0.9445\n",
      "Epoch 17/80\n",
      "27455/27455 [==============================] - 3s 111us/sample - loss: 0.1858 - accuracy: 0.9371 - val_loss: 0.2286 - val_accuracy: 0.9518\n",
      "Epoch 18/80\n",
      "27455/27455 [==============================] - 3s 110us/sample - loss: 0.1769 - accuracy: 0.9377 - val_loss: 0.2390 - val_accuracy: 0.9505\n",
      "Epoch 19/80\n",
      "27455/27455 [==============================] - 3s 111us/sample - loss: 0.1739 - accuracy: 0.9403 - val_loss: 0.2432 - val_accuracy: 0.9562\n",
      "Epoch 20/80\n",
      "27455/27455 [==============================] - 3s 111us/sample - loss: 0.1645 - accuracy: 0.9440 - val_loss: 0.2160 - val_accuracy: 0.9526\n",
      "Epoch 21/80\n",
      "27455/27455 [==============================] - 3s 112us/sample - loss: 0.1541 - accuracy: 0.9467 - val_loss: 0.2172 - val_accuracy: 0.9651\n",
      "Epoch 22/80\n",
      "27455/27455 [==============================] - 3s 111us/sample - loss: 0.1564 - accuracy: 0.9472 - val_loss: 0.2623 - val_accuracy: 0.9576\n",
      "Epoch 23/80\n",
      "27455/27455 [==============================] - 3s 112us/sample - loss: 0.1560 - accuracy: 0.9480 - val_loss: 0.2524 - val_accuracy: 0.9547\n",
      "Epoch 24/80\n",
      "27455/27455 [==============================] - 3s 112us/sample - loss: 0.1425 - accuracy: 0.9506 - val_loss: 0.2909 - val_accuracy: 0.9596\n",
      "Epoch 25/80\n",
      "27455/27455 [==============================] - 3s 111us/sample - loss: 0.1375 - accuracy: 0.9518 - val_loss: 0.3171 - val_accuracy: 0.9594\n",
      "Epoch 26/80\n",
      "27455/27455 [==============================] - 3s 114us/sample - loss: 0.1366 - accuracy: 0.9528 - val_loss: 0.2676 - val_accuracy: 0.9548\n",
      "Epoch 27/80\n",
      "27455/27455 [==============================] - 3s 114us/sample - loss: 0.1306 - accuracy: 0.9551 - val_loss: 0.2692 - val_accuracy: 0.9582\n",
      "Epoch 28/80\n",
      "27455/27455 [==============================] - 3s 116us/sample - loss: 0.1307 - accuracy: 0.9544 - val_loss: 0.3125 - val_accuracy: 0.9543\n",
      "Epoch 29/80\n",
      "27455/27455 [==============================] - 3s 117us/sample - loss: 0.1275 - accuracy: 0.9554 - val_loss: 0.2989 - val_accuracy: 0.9540\n",
      "Epoch 30/80\n",
      "27455/27455 [==============================] - 3s 115us/sample - loss: 0.1212 - accuracy: 0.9583 - val_loss: 0.3230 - val_accuracy: 0.9626\n",
      "Epoch 31/80\n",
      "27455/27455 [==============================] - 3s 120us/sample - loss: 0.1174 - accuracy: 0.9595 - val_loss: 0.2936 - val_accuracy: 0.9628\n",
      "Epoch 32/80\n",
      "27455/27455 [==============================] - 3s 113us/sample - loss: 0.1182 - accuracy: 0.9597 - val_loss: 0.2949 - val_accuracy: 0.9629\n",
      "Epoch 33/80\n",
      "27455/27455 [==============================] - 3s 112us/sample - loss: 0.1171 - accuracy: 0.9584 - val_loss: 0.2649 - val_accuracy: 0.9575\n",
      "Epoch 34/80\n",
      "27455/27455 [==============================] - 3s 113us/sample - loss: 0.1149 - accuracy: 0.9621 - val_loss: 0.2942 - val_accuracy: 0.9568\n",
      "Epoch 35/80\n",
      "27455/27455 [==============================] - 3s 114us/sample - loss: 0.1083 - accuracy: 0.9626 - val_loss: 0.2822 - val_accuracy: 0.9554\n",
      "Epoch 36/80\n",
      "27455/27455 [==============================] - 3s 113us/sample - loss: 0.1136 - accuracy: 0.9610 - val_loss: 0.2894 - val_accuracy: 0.9525\n",
      "Epoch 37/80\n",
      "27455/27455 [==============================] - 3s 116us/sample - loss: 0.1110 - accuracy: 0.9626 - val_loss: 0.2986 - val_accuracy: 0.9664\n",
      "Epoch 38/80\n",
      "27455/27455 [==============================] - 3s 116us/sample - loss: 0.1031 - accuracy: 0.9645 - val_loss: 0.3007 - val_accuracy: 0.9707\n",
      "Epoch 39/80\n",
      "27455/27455 [==============================] - 3s 114us/sample - loss: 0.1008 - accuracy: 0.9648 - val_loss: 0.3565 - val_accuracy: 0.9586\n",
      "Epoch 40/80\n",
      "27455/27455 [==============================] - 3s 114us/sample - loss: 0.1033 - accuracy: 0.9650 - val_loss: 0.3560 - val_accuracy: 0.9586\n",
      "Epoch 41/80\n",
      "27455/27455 [==============================] - 3s 115us/sample - loss: 0.1010 - accuracy: 0.9663 - val_loss: 0.3657 - val_accuracy: 0.9525\n",
      "Epoch 42/80\n",
      "27455/27455 [==============================] - 3s 114us/sample - loss: 0.0946 - accuracy: 0.9657 - val_loss: 0.2678 - val_accuracy: 0.9582\n",
      "Epoch 43/80\n",
      "27455/27455 [==============================] - 3s 114us/sample - loss: 0.0985 - accuracy: 0.9669 - val_loss: 0.3173 - val_accuracy: 0.9647\n",
      "Epoch 44/80\n",
      "27455/27455 [==============================] - 3s 115us/sample - loss: 0.0860 - accuracy: 0.9700 - val_loss: 0.3689 - val_accuracy: 0.9555\n",
      "Epoch 45/80\n",
      "27455/27455 [==============================] - 3s 114us/sample - loss: 0.0938 - accuracy: 0.9685 - val_loss: 0.3495 - val_accuracy: 0.9543\n",
      "Epoch 46/80\n",
      "27455/27455 [==============================] - 3s 114us/sample - loss: 0.0885 - accuracy: 0.9704 - val_loss: 0.3596 - val_accuracy: 0.9700\n",
      "Epoch 47/80\n",
      "27455/27455 [==============================] - 3s 113us/sample - loss: 0.0855 - accuracy: 0.9718 - val_loss: 0.3420 - val_accuracy: 0.9537\n",
      "Epoch 48/80\n",
      "27455/27455 [==============================] - 3s 114us/sample - loss: 0.0923 - accuracy: 0.9695 - val_loss: 0.4245 - val_accuracy: 0.9558\n",
      "Epoch 49/80\n",
      "27455/27455 [==============================] - 3s 115us/sample - loss: 0.0820 - accuracy: 0.9711 - val_loss: 0.3428 - val_accuracy: 0.9469\n",
      "Epoch 50/80\n",
      "27455/27455 [==============================] - 3s 114us/sample - loss: 0.0841 - accuracy: 0.9716 - val_loss: 0.3675 - val_accuracy: 0.9536\n",
      "Epoch 51/80\n",
      "27455/27455 [==============================] - 3s 116us/sample - loss: 0.0815 - accuracy: 0.9726 - val_loss: 0.3493 - val_accuracy: 0.9508\n",
      "Epoch 52/80\n",
      "27455/27455 [==============================] - 3s 115us/sample - loss: 0.0836 - accuracy: 0.9713 - val_loss: 0.3126 - val_accuracy: 0.9600\n",
      "Epoch 53/80\n",
      "27455/27455 [==============================] - 3s 116us/sample - loss: 0.0783 - accuracy: 0.9730 - val_loss: 0.2669 - val_accuracy: 0.9580\n",
      "Epoch 54/80\n",
      "27455/27455 [==============================] - 3s 115us/sample - loss: 0.0784 - accuracy: 0.9735 - val_loss: 0.3232 - val_accuracy: 0.9614\n"
     ]
    },
    {
     "name": "stdout",
     "output_type": "stream",
     "text": [
      "Epoch 55/80\n",
      "27455/27455 [==============================] - 3s 114us/sample - loss: 0.0780 - accuracy: 0.9741 - val_loss: 0.3106 - val_accuracy: 0.9646\n",
      "Epoch 56/80\n",
      "27455/27455 [==============================] - 3s 115us/sample - loss: 0.0804 - accuracy: 0.9729 - val_loss: 0.2827 - val_accuracy: 0.9579\n",
      "Epoch 57/80\n",
      "27455/27455 [==============================] - 3s 115us/sample - loss: 0.0821 - accuracy: 0.9726 - val_loss: 0.4221 - val_accuracy: 0.9626\n",
      "Epoch 58/80\n",
      "27455/27455 [==============================] - 3s 113us/sample - loss: 0.0799 - accuracy: 0.9727 - val_loss: 0.3644 - val_accuracy: 0.9573\n",
      "Epoch 59/80\n",
      "27455/27455 [==============================] - 3s 113us/sample - loss: 0.0809 - accuracy: 0.9727 - val_loss: 0.3518 - val_accuracy: 0.9635\n",
      "Epoch 60/80\n",
      "27455/27455 [==============================] - 3s 114us/sample - loss: 0.0741 - accuracy: 0.9755 - val_loss: 0.3435 - val_accuracy: 0.9650\n",
      "Epoch 61/80\n",
      "27455/27455 [==============================] - 3s 116us/sample - loss: 0.0733 - accuracy: 0.9748 - val_loss: 0.3249 - val_accuracy: 0.9670\n",
      "Epoch 62/80\n",
      "27455/27455 [==============================] - 3s 113us/sample - loss: 0.0755 - accuracy: 0.9741 - val_loss: 0.3300 - val_accuracy: 0.9605\n",
      "Epoch 63/80\n",
      "27455/27455 [==============================] - 3s 114us/sample - loss: 0.0747 - accuracy: 0.9738 - val_loss: 0.2970 - val_accuracy: 0.9654\n",
      "Epoch 64/80\n",
      "27455/27455 [==============================] - 3s 115us/sample - loss: 0.0775 - accuracy: 0.9744 - val_loss: 0.2668 - val_accuracy: 0.9621\n",
      "Epoch 65/80\n",
      "27455/27455 [==============================] - 3s 113us/sample - loss: 0.0718 - accuracy: 0.9757 - val_loss: 0.3861 - val_accuracy: 0.9622\n",
      "Epoch 66/80\n",
      "27455/27455 [==============================] - 3s 111us/sample - loss: 0.0727 - accuracy: 0.9759 - val_loss: 0.4142 - val_accuracy: 0.9626\n",
      "Epoch 67/80\n",
      "27455/27455 [==============================] - 3s 114us/sample - loss: 0.0655 - accuracy: 0.9785 - val_loss: 0.3830 - val_accuracy: 0.9611\n",
      "Epoch 68/80\n",
      "27455/27455 [==============================] - 3s 114us/sample - loss: 0.0729 - accuracy: 0.9761 - val_loss: 0.3629 - val_accuracy: 0.9632\n",
      "Epoch 69/80\n",
      "27455/27455 [==============================] - 3s 116us/sample - loss: 0.0688 - accuracy: 0.9774 - val_loss: 0.4067 - val_accuracy: 0.9654\n",
      "Epoch 70/80\n",
      "27455/27455 [==============================] - 3s 116us/sample - loss: 0.0788 - accuracy: 0.9740 - val_loss: 0.3584 - val_accuracy: 0.9674\n",
      "Epoch 71/80\n",
      "27455/27455 [==============================] - 3s 116us/sample - loss: 0.0683 - accuracy: 0.9771 - val_loss: 0.3577 - val_accuracy: 0.9497\n",
      "Epoch 72/80\n",
      "27455/27455 [==============================] - 3s 118us/sample - loss: 0.0627 - accuracy: 0.9783 - val_loss: 0.5707 - val_accuracy: 0.9632\n",
      "Epoch 73/80\n",
      "27455/27455 [==============================] - 3s 116us/sample - loss: 0.0710 - accuracy: 0.9754 - val_loss: 0.3313 - val_accuracy: 0.9635\n",
      "Epoch 74/80\n",
      "27455/27455 [==============================] - 3s 115us/sample - loss: 0.0670 - accuracy: 0.9775 - val_loss: 0.3829 - val_accuracy: 0.9636\n",
      "Epoch 75/80\n",
      "27455/27455 [==============================] - 3s 115us/sample - loss: 0.0672 - accuracy: 0.9780 - val_loss: 0.3422 - val_accuracy: 0.9644\n",
      "Epoch 76/80\n",
      "27455/27455 [==============================] - 3s 116us/sample - loss: 0.0646 - accuracy: 0.9798 - val_loss: 0.4163 - val_accuracy: 0.9649\n",
      "Epoch 77/80\n",
      "27455/27455 [==============================] - 3s 116us/sample - loss: 0.0672 - accuracy: 0.9779 - val_loss: 0.3966 - val_accuracy: 0.9601\n",
      "Epoch 78/80\n",
      "27455/27455 [==============================] - 3s 115us/sample - loss: 0.0670 - accuracy: 0.9776 - val_loss: 0.3737 - val_accuracy: 0.9612\n",
      "Epoch 79/80\n",
      "27455/27455 [==============================] - 3s 113us/sample - loss: 0.0653 - accuracy: 0.9784 - val_loss: 0.2717 - val_accuracy: 0.9614\n",
      "Epoch 80/80\n",
      "27455/27455 [==============================] - 3s 113us/sample - loss: 0.0660 - accuracy: 0.9779 - val_loss: 0.3286 - val_accuracy: 0.9693\n"
     ]
    }
   ],
   "source": [
    "history = base_model.fit(x_train, y_train, epochs=_epochs, batch_size=_batch_size, validation_split = _validation_split, validation_data = _val_data )\n",
    "\n",
    "# od biedy można sobie zapisać \"co któryś model\", żeby łatwo z niego skorzystać"
   ]
  },
  {
   "cell_type": "code",
   "execution_count": 37,
   "metadata": {},
   "outputs": [
    {
     "data": {
      "image/png": "[encoded data removed]",
      "text/plain": [
       "<Figure size 1296x648 with 1 Axes>"
      ]
     },
     "metadata": {
      "needs_background": "light"
     },
     "output_type": "display_data"
    }
   ],
   "source": [
    "# rysowanie historii błędu\n",
    "fig = plt.figure(figsize=(18,9))\n",
    "#plt.plot(history.history['loss'])\n",
    "\n",
    "plt.plot(history.history['accuracy'])\n",
    "plt.plot(history.history['val_accuracy'])\n",
    "\n",
    "plt.legend([\"train\", \"validation\"])\n",
    "\n",
    "plt.title('accuracy')\n",
    "plt.show()\n"
   ]
  },
  {
   "cell_type": "markdown",
   "metadata": {},
   "source": [
    "### hasło do sprawdzenia - batch normalization"
   ]
  },
  {
   "cell_type": "code",
   "execution_count": 38,
   "metadata": {},
   "outputs": [
    {
     "name": "stdout",
     "output_type": "stream",
     "text": [
      "\n",
      "[!] Evaluation results:\n",
      "loss: 0.329, accuracy: 0.969\n"
     ]
    }
   ],
   "source": [
    "results = base_model.evaluate(x_test, y_test, batch_size=len(x_test), verbose=0)\n",
    "print(\"\\n[!] Evaluation results:\")\n",
    "print(\"{0}: {2:.3f}, {1}: {3:.3f}\".format(*base_model.metrics_names, *results))"
   ]
  },
  {
   "cell_type": "code",
   "execution_count": 42,
   "metadata": {
    "scrolled": true
   },
   "outputs": [],
   "source": [
    "saved_file = 'trained_model.h5'\n",
    "base_model.save(saved_file)"
   ]
  },
  {
   "cell_type": "code",
   "execution_count": 43,
   "metadata": {},
   "outputs": [],
   "source": [
    "loaded_model = keras.models.load_model(saved_file)"
   ]
  },
  {
   "cell_type": "code",
   "execution_count": 44,
   "metadata": {},
   "outputs": [
    {
     "name": "stdout",
     "output_type": "stream",
     "text": [
      "\n",
      "[!] Evaluation results:\n",
      "loss: 0.329, accuracy: 0.969\n"
     ]
    }
   ],
   "source": [
    "results = loaded_model.evaluate(x_test, y_test, batch_size=len(x_test), verbose=0)\n",
    "print(\"\\n[!] Evaluation results:\")\n",
    "print(\"{0}: {2:.3f}, {1}: {3:.3f}\".format(*base_model.metrics_names, *results))"
   ]
  }
 ],
 "metadata": {
  "kernelspec": {
   "display_name": "Python 3",
   "language": "python",
   "name": "python3"
  },
  "language_info": {
   "codemirror_mode": {
    "name": "ipython",
    "version": 3
   },
   "file_extension": ".py",
   "mimetype": "text/x-python",
   "name": "python",
   "nbconvert_exporter": "python",
   "pygments_lexer": "ipython3",
   "version": "3.7.7"
  }
 },
 "nbformat": 4,
 "nbformat_minor": 4
}
